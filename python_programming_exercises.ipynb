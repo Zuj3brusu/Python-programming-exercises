{
  "nbformat": 4,
  "nbformat_minor": 0,
  "metadata": {
    "colab": {
      "name": "python programming exercises.ipynb",
      "provenance": [],
      "collapsed_sections": [
        "tFYYpMfOVRa4",
        "DcXd4zDMWS6L",
        "QRRPUgNXWz-X",
        "JF72W2XvXTgW",
        "tnlsu3ugan64",
        "RvvzSuwScvCk",
        "vCEs-2-hdxHj",
        "e_DTK3hCePUW",
        "umRqZUwue8-d",
        "fJtI4Lrifql_",
        "Q2VVvrfMiEz9",
        "aKRoj4TRkKqd",
        "wRFcWyE_l_-e",
        "0fGiiQDwm-HE",
        "Ai1fqr-ynqbv",
        "k0O79Rnpo6bA",
        "u6A-gz0SqG6f",
        "eXtlQ_q8r0-l",
        "y1QEXg31uS-r",
        "Xh41vlipuG9P",
        "BJKH2AcqwRUW",
        "QWC_808PyqkQ",
        "cGhA8p-uz9bD",
        "TWDypZgu06H3",
        "Y1lmH9zy1ZiL",
        "xvElAsK110Dp",
        "FvDlXVT72Bjb",
        "VTPW_1l92VX6",
        "mbIt8QUi2oSJ",
        "OuaCcxbE2719",
        "GmZcW2jI3a8z",
        "Uxywad0O35kr",
        "ykkmO9tr4Up-",
        "2YySDmkx4u1s",
        "LYU2el8W4-8d",
        "HpSKljtj5Msu",
        "CePGJXcD5lYD",
        "Hg22nwWw5xyi",
        "xcrsdv8C5-Ae",
        "lCV0q9Mn6ISS",
        "KMXqQEGx8PJT",
        "57FCr-Li82jW",
        "q94VmTr_9J1D",
        "rrcLc5NB9k1l",
        "SiuEJPvh-94c"
      ],
      "authorship_tag": "ABX9TyNDLcHkf+D3qo7ZvBbVok1P",
      "include_colab_link": true
    },
    "kernelspec": {
      "name": "python3",
      "display_name": "Python 3"
    },
    "language_info": {
      "name": "python"
    }
  },
  "cells": [
    {
      "cell_type": "markdown",
      "metadata": {
        "id": "view-in-github",
        "colab_type": "text"
      },
      "source": [
        "<a href=\"https://colab.research.google.com/github/Zuj3brusu/Python-programming-exercises/blob/master/python_programming_exercises.ipynb\" target=\"_parent\"><img src=\"https://colab.research.google.com/assets/colab-badge.svg\" alt=\"Open In Colab\"/></a>"
      ]
    },
    {
      "cell_type": "code",
      "metadata": {
        "id": "5xRxen1uweaZ"
      },
      "source": [
        "import math"
      ],
      "execution_count": 1,
      "outputs": []
    },
    {
      "cell_type": "markdown",
      "metadata": {
        "id": "XiuiXnSRURDI"
      },
      "source": [
        "###Question 1\n",
        "Level 1\n",
        "\n",
        "Question: Write a program which will find all such numbers which are divisible by 7 but are not a multiple of 5, between 2000 and 3200 (both included). The numbers obtained should be printed in a comma-separated sequence on a single line."
      ]
    },
    {
      "cell_type": "code",
      "metadata": {
        "colab": {
          "base_uri": "https://localhost:8080/"
        },
        "id": "Rw65xVwSUVNd",
        "outputId": "7e035905-0341-40d7-d9f7-86669efbcf26"
      },
      "source": [
        "l=[]\n",
        "for i in range(2000,3201):\n",
        "  if (i%7==0) and (i%5!=0):\n",
        "    l.append(str(i))\n",
        "print(','.join(l))"
      ],
      "execution_count": null,
      "outputs": [
        {
          "output_type": "stream",
          "text": [
            "2002,2009,2016,2023,2037,2044,2051,2058,2072,2079,2086,2093,2107,2114,2121,2128,2142,2149,2156,2163,2177,2184,2191,2198,2212,2219,2226,2233,2247,2254,2261,2268,2282,2289,2296,2303,2317,2324,2331,2338,2352,2359,2366,2373,2387,2394,2401,2408,2422,2429,2436,2443,2457,2464,2471,2478,2492,2499,2506,2513,2527,2534,2541,2548,2562,2569,2576,2583,2597,2604,2611,2618,2632,2639,2646,2653,2667,2674,2681,2688,2702,2709,2716,2723,2737,2744,2751,2758,2772,2779,2786,2793,2807,2814,2821,2828,2842,2849,2856,2863,2877,2884,2891,2898,2912,2919,2926,2933,2947,2954,2961,2968,2982,2989,2996,3003,3017,3024,3031,3038,3052,3059,3066,3073,3087,3094,3101,3108,3122,3129,3136,3143,3157,3164,3171,3178,3192,3199\n"
          ],
          "name": "stdout"
        }
      ]
    },
    {
      "cell_type": "markdown",
      "metadata": {
        "id": "tFYYpMfOVRa4"
      },
      "source": [
        "###Question 2\n",
        "Level 1\n",
        "\n",
        "Question: Write a program which can compute the factorial of a given numbers. The results should be printed in a comma-separated sequence on a single line. Suppose the following input is supplied to the program: 8 Then, the output should be: 40320"
      ]
    },
    {
      "cell_type": "code",
      "metadata": {
        "colab": {
          "base_uri": "https://localhost:8080/"
        },
        "id": "UFEks4d6VUNO",
        "outputId": "6545491e-61e0-4686-8f55-eba41c477f67"
      },
      "source": [
        "x=int(input())\n",
        "m=1\n",
        "for i in range(1,x+1):\n",
        "  m*=i\n",
        "print(m)"
      ],
      "execution_count": null,
      "outputs": [
        {
          "output_type": "stream",
          "text": [
            "8\n",
            "40320\n"
          ],
          "name": "stdout"
        }
      ]
    },
    {
      "cell_type": "markdown",
      "metadata": {
        "id": "DcXd4zDMWS6L"
      },
      "source": [
        "###Question 3\n",
        "Level 1\n",
        "\n",
        "Question: With a given integral number n, write a program to generate a dictionary that contains (i, i*i) such that is an integral number between 1 and n (both included). and then the program should print the dictionary. Suppose the following input is supplied to the program: 8 Then, the output should be: {1: 1, 2: 4, 3: 9, 4: 16, 5: 25, 6: 36, 7: 49, 8: 64}"
      ]
    },
    {
      "cell_type": "code",
      "metadata": {
        "colab": {
          "base_uri": "https://localhost:8080/"
        },
        "id": "949hfznCWWYr",
        "outputId": "81733955-f13b-4270-ae6c-ad239fa8b208"
      },
      "source": [
        "x=int(input())\n",
        "d={}\n",
        "for i in range(1,x+1):\n",
        "  d[i]=i*i\n",
        "print(d)"
      ],
      "execution_count": null,
      "outputs": [
        {
          "output_type": "stream",
          "text": [
            "8\n",
            "{1: 1, 2: 4, 3: 9, 4: 16, 5: 25, 6: 36, 7: 49, 8: 64}\n"
          ],
          "name": "stdout"
        }
      ]
    },
    {
      "cell_type": "markdown",
      "metadata": {
        "id": "QRRPUgNXWz-X"
      },
      "source": [
        "###Question 4\n",
        "Level 1\n",
        "\n",
        "Question: Write a program which accepts a sequence of comma-separated numbers from console and generate a list and a tuple which contains every number. Suppose the following input is supplied to the program: 34,67,55,33,12,98 Then, the output should be: ['34', '67', '55', '33', '12', '98'] ('34', '67', '55', '33', '12', '98')"
      ]
    },
    {
      "cell_type": "code",
      "metadata": {
        "colab": {
          "base_uri": "https://localhost:8080/"
        },
        "id": "DVOcKWp8W5jq",
        "outputId": "ff68b5ef-24d1-4322-b743-77c8e87a16e4"
      },
      "source": [
        "x=input()\n",
        "l=x.split(',')\n",
        "print(l,tuple(l))"
      ],
      "execution_count": null,
      "outputs": [
        {
          "output_type": "stream",
          "text": [
            "34,67,55,33,12,98\n",
            "['34', '67', '55', '33', '12', '98'] ('34', '67', '55', '33', '12', '98')\n"
          ],
          "name": "stdout"
        }
      ]
    },
    {
      "cell_type": "markdown",
      "metadata": {
        "id": "JF72W2XvXTgW"
      },
      "source": [
        "###Question 5\n",
        "Level 1\n",
        "\n",
        "Question: Define a class which has at least two methods: getString: to get a string from console input printString: to print the string in upper case. Also please include simple test function to test the class methods."
      ]
    },
    {
      "cell_type": "code",
      "metadata": {
        "colab": {
          "base_uri": "https://localhost:8080/"
        },
        "id": "QGtCxGHGXVNR",
        "outputId": "b8ce5312-daf0-4709-a9fa-e25204262a7a"
      },
      "source": [
        "class myclass():\n",
        "  def __init__(self):\n",
        "    self.mystr = ''\n",
        "  \n",
        "  def getString(self):\n",
        "    s = input()\n",
        "    self.mystr = s\n",
        "\n",
        "  def printString(self):\n",
        "    print(self.mystr.upper())\n",
        "  \n",
        "  def test(self):\n",
        "    self.getString()\n",
        "    self.printString()\n",
        "\n",
        "x = myclass()\n",
        "x.getString()\n",
        "x.printString()\n",
        "x.test()"
      ],
      "execution_count": null,
      "outputs": [
        {
          "output_type": "stream",
          "text": [
            "asASdD\n",
            "ASASDD\n",
            "sdgF\n",
            "SDGF\n"
          ],
          "name": "stdout"
        }
      ]
    },
    {
      "cell_type": "markdown",
      "metadata": {
        "id": "tnlsu3ugan64"
      },
      "source": [
        "###Question 6\n",
        "Level 2\n",
        "\n",
        "Question: Write a program that calculates and prints the value according to the given formula: Q = Square root of [(2 * C * D)/H] Following are the fixed values of C and H: C is 50. H is 30. D is the variable whose values should be input to your program in a comma-separated sequence. Example Let us assume the following comma separated input sequence is given to the program: 100,150,180 The output of the program should be: 18,22,24"
      ]
    },
    {
      "cell_type": "code",
      "metadata": {
        "id": "CnTRlLt2biTw"
      },
      "source": [
        "import math"
      ],
      "execution_count": null,
      "outputs": []
    },
    {
      "cell_type": "code",
      "metadata": {
        "colab": {
          "base_uri": "https://localhost:8080/"
        },
        "id": "nNsrjUuwavgu",
        "outputId": "96678425-264d-4148-f8cb-d89ad099be80"
      },
      "source": [
        "ds=input()\n",
        "l=[]\n",
        "d_s = ds.split(',')\n",
        "c=50\n",
        "h=30\n",
        "for i in d_s:\n",
        "  d=int(i)\n",
        "  x=(2*c*d)/h\n",
        "  x = math.sqrt(x)\n",
        "  l.append(str(round(x)))\n",
        "print(','.join(l))"
      ],
      "execution_count": null,
      "outputs": [
        {
          "output_type": "stream",
          "text": [
            "100,150,180\n",
            "18,22,24\n"
          ],
          "name": "stdout"
        }
      ]
    },
    {
      "cell_type": "markdown",
      "metadata": {
        "id": "RvvzSuwScvCk"
      },
      "source": [
        "###Question 7\n",
        "Level 2\n",
        "\n",
        "Question: Write a program which takes 2 digits, X,Y as input and generates a 2-dimensional array. The element value in the i-th row and j-th column of the array should be i*j. Note: i=0,1.., X-1; j=0,1,¡­Y-1. Example Suppose the following inputs are given to the program: 3,5 Then, the output of the program should be: [[0, 0, 0, 0, 0], [0, 1, 2, 3, 4], [0, 2, 4, 6, 8]]"
      ]
    },
    {
      "cell_type": "code",
      "metadata": {
        "colab": {
          "base_uri": "https://localhost:8080/"
        },
        "id": "yk8RyDVwcwC_",
        "outputId": "6971dc98-9de3-4523-9296-54d52baabe20"
      },
      "source": [
        "x=input()\n",
        "X,Y= [int(d) for d in x.split(',')]\n",
        "\n",
        "mat=[]\n",
        "for i in range(X):\n",
        "  l=[]\n",
        "  for j in range(Y):\n",
        "    l.append(i*j)\n",
        "  mat.append(l)\n",
        "print(mat)"
      ],
      "execution_count": null,
      "outputs": [
        {
          "output_type": "stream",
          "text": [
            "3,5\n",
            "[[0, 0, 0, 0, 0], [0, 1, 2, 3, 4], [0, 2, 4, 6, 8]]\n"
          ],
          "name": "stdout"
        }
      ]
    },
    {
      "cell_type": "markdown",
      "metadata": {
        "id": "vCEs-2-hdxHj"
      },
      "source": [
        "###Question 8\n",
        "Level 2\n",
        "\n",
        "Question: Write a program that accepts a comma separated sequence of words as input and prints the words in a comma-separated sequence after sorting them alphabetically. Suppose the following input is supplied to the program: without,hello,bag,world Then, the output should be: bag,hello,without,world"
      ]
    },
    {
      "cell_type": "code",
      "metadata": {
        "colab": {
          "base_uri": "https://localhost:8080/"
        },
        "id": "-ZdvhFHZd90l",
        "outputId": "6187cc2b-4819-42ac-9fb4-4cf15f22aa40"
      },
      "source": [
        "x=input()\n",
        "x=x.split(',')\n",
        "x = sorted(x)\n",
        "print(','.join(x))"
      ],
      "execution_count": null,
      "outputs": [
        {
          "output_type": "stream",
          "text": [
            "without,hello,bag,world\n",
            "bag,hello,without,world\n"
          ],
          "name": "stdout"
        }
      ]
    },
    {
      "cell_type": "markdown",
      "metadata": {
        "id": "e_DTK3hCePUW"
      },
      "source": [
        "###Question 9\n",
        "Level 2\n",
        "\n",
        "Question£º Write a program that accepts sequence of lines as input and prints the lines after making all characters in the sentence capitalized. Suppose the following input is supplied to the program: Hello world Practice makes perfect Then, the output should be: HELLO WORLD PRACTICE MAKES PERFECT"
      ]
    },
    {
      "cell_type": "code",
      "metadata": {
        "colab": {
          "base_uri": "https://localhost:8080/"
        },
        "id": "DsgsrkSnefMb",
        "outputId": "a292e2f8-45b2-474d-be48-05bec9ee38cd"
      },
      "source": [
        "x=input()\n",
        "print(x.upper())"
      ],
      "execution_count": null,
      "outputs": [
        {
          "output_type": "stream",
          "text": [
            "Hello world Practice makes perfect\n",
            "HELLO WORLD PRACTICE MAKES PERFECT\n"
          ],
          "name": "stdout"
        }
      ]
    },
    {
      "cell_type": "markdown",
      "metadata": {
        "id": "umRqZUwue8-d"
      },
      "source": [
        "###Question 10\n",
        "Level 2\n",
        "\n",
        "Question: Write a program that accepts a sequence of whitespace separated words as input and prints the words after removing all duplicate words and sorting them alphanumerically. Suppose the following input is supplied to the program: hello world and practice makes perfect and hello world again Then, the output should be: again and hello makes perfect practice world"
      ]
    },
    {
      "cell_type": "code",
      "metadata": {
        "colab": {
          "base_uri": "https://localhost:8080/"
        },
        "id": "-0QQerCVfACK",
        "outputId": "9eb39448-fe4a-448a-80de-03a12cb6dd2f"
      },
      "source": [
        "x = input()\n",
        "y = list(set(x.split(' ')))\n",
        "y.sort()\n",
        "print(' '.join(y))"
      ],
      "execution_count": null,
      "outputs": [
        {
          "output_type": "stream",
          "text": [
            "hello world and practice makes perfect and hello world again\n",
            "again and hello makes perfect practice world\n"
          ],
          "name": "stdout"
        }
      ]
    },
    {
      "cell_type": "markdown",
      "metadata": {
        "id": "fJtI4Lrifql_"
      },
      "source": [
        "###Question 11\n",
        "Level 2\n",
        "\n",
        "Question: Write a program which accepts a sequence of comma separated 4 digit binary numbers as its input and then check whether they are divisible by 5 or not. The numbers that are divisible by 5 are to be printed in a comma separated sequence. Example: 0100,0011,1010,1001 Then the output should be: 1010 Notes: Assume the data is input by console."
      ]
    },
    {
      "cell_type": "code",
      "metadata": {
        "colab": {
          "base_uri": "https://localhost:8080/"
        },
        "id": "mbpvmBwyglHG",
        "outputId": "acd97dbc-6176-4e67-db19-2384a8375390"
      },
      "source": [
        "x=input()\n",
        "x = x.split(',')\n",
        "l=[]\n",
        "def dec(s):\n",
        "  d0=int(s[0])\n",
        "  d1=int(s[1])\n",
        "  d2=int(s[2])\n",
        "  d3=int(s[3])\n",
        "  return d3*1 + d2*2 + d1*4 + d0*8\n",
        "\n",
        "for i in x:\n",
        "  z = dec(i)\n",
        "  if z%5==0:\n",
        "    l.append(i)\n",
        "print(','.join(l))"
      ],
      "execution_count": null,
      "outputs": [
        {
          "output_type": "stream",
          "text": [
            "0100,0011,1010,1001\n",
            "1010\n"
          ],
          "name": "stdout"
        }
      ]
    },
    {
      "cell_type": "markdown",
      "metadata": {
        "id": "Q2VVvrfMiEz9"
      },
      "source": [
        "###Question 12\n",
        "Level 2\n",
        "\n",
        "Question: Write a program, which will find all such numbers between 1000 and 3000 (both included) such that each digit of the number is an even number. The numbers obtained should be printed in a comma-separated sequence on a single line."
      ]
    },
    {
      "cell_type": "code",
      "metadata": {
        "colab": {
          "base_uri": "https://localhost:8080/"
        },
        "id": "rY0esgbciq5T",
        "outputId": "6d480c88-07b0-46da-d6ac-cef55302d9c7"
      },
      "source": [
        "l=[]\n",
        "for i in range(1000,3001):\n",
        "  z = i\n",
        "  if (z%10)%2==0:\n",
        "    z=z//10\n",
        "    if (z%10)%2==0:\n",
        "      z=z//10\n",
        "      if (z%10)%2==0:\n",
        "        z=z//10\n",
        "        if (z%10)%2==0:\n",
        "          l.append(str(i))\n",
        "print(','.join(l))"
      ],
      "execution_count": null,
      "outputs": [
        {
          "output_type": "stream",
          "text": [
            "2000,2002,2004,2006,2008,2020,2022,2024,2026,2028,2040,2042,2044,2046,2048,2060,2062,2064,2066,2068,2080,2082,2084,2086,2088,2200,2202,2204,2206,2208,2220,2222,2224,2226,2228,2240,2242,2244,2246,2248,2260,2262,2264,2266,2268,2280,2282,2284,2286,2288,2400,2402,2404,2406,2408,2420,2422,2424,2426,2428,2440,2442,2444,2446,2448,2460,2462,2464,2466,2468,2480,2482,2484,2486,2488,2600,2602,2604,2606,2608,2620,2622,2624,2626,2628,2640,2642,2644,2646,2648,2660,2662,2664,2666,2668,2680,2682,2684,2686,2688,2800,2802,2804,2806,2808,2820,2822,2824,2826,2828,2840,2842,2844,2846,2848,2860,2862,2864,2866,2868,2880,2882,2884,2886,2888\n"
          ],
          "name": "stdout"
        }
      ]
    },
    {
      "cell_type": "markdown",
      "metadata": {
        "id": "aKRoj4TRkKqd"
      },
      "source": [
        "###Question 13\n",
        "Level 2\n",
        "\n",
        "Question: Write a program that accepts a sentence and calculate the number of letters and digits. Suppose the following input is supplied to the program: hello world! 123 Then, the output should be: LETTERS 10 DIGITS 3"
      ]
    },
    {
      "cell_type": "code",
      "metadata": {
        "colab": {
          "base_uri": "https://localhost:8080/"
        },
        "id": "6ahxA5i3kOIG",
        "outputId": "67d9980d-d5f4-48b8-db22-a35a257ea6e1"
      },
      "source": [
        "l=0\n",
        "d=0\n",
        "x=input()\n",
        "for i in x:\n",
        "  if i == ' ':\n",
        "    continue\n",
        "  if i.isalpha():\n",
        "    l+=1\n",
        "  try:\n",
        "    int(i)\n",
        "    d+=1\n",
        "  except:\n",
        "    continue\n",
        "print(\"LETTERS\",l,'DIGITS',d)"
      ],
      "execution_count": null,
      "outputs": [
        {
          "output_type": "stream",
          "text": [
            "hello world! 123\n",
            "LETTERS 10 DIGITS 3\n"
          ],
          "name": "stdout"
        }
      ]
    },
    {
      "cell_type": "markdown",
      "metadata": {
        "id": "wRFcWyE_l_-e"
      },
      "source": [
        "###Question 14\n",
        "Level 2\n",
        "\n",
        "Question: Write a program that accepts a sentence and calculate the number of upper case letters and lower case letters. Suppose the following input is supplied to the program: Hello world! Then, the output should be: UPPER CASE 1 LOWER CASE 9"
      ]
    },
    {
      "cell_type": "code",
      "metadata": {
        "colab": {
          "base_uri": "https://localhost:8080/"
        },
        "id": "pYzcwWO5mLnW",
        "outputId": "c852334c-41a2-493d-dfa5-49ac03ccbfdd"
      },
      "source": [
        "x=input()\n",
        "u=0\n",
        "l=0\n",
        "for i in x:\n",
        "  if not i.isalpha():\n",
        "    continue\n",
        "  if i.upper()==i:\n",
        "    u+=1\n",
        "  else:\n",
        "    l+=1\n",
        "print('UPPER CASE',u,'LOWER CASE',l)"
      ],
      "execution_count": null,
      "outputs": [
        {
          "output_type": "stream",
          "text": [
            "Hello world!\n",
            "UPPER CASE 1 LOWER CASE 9\n"
          ],
          "name": "stdout"
        }
      ]
    },
    {
      "cell_type": "markdown",
      "metadata": {
        "id": "0fGiiQDwm-HE"
      },
      "source": [
        "###Question 15\n",
        "Level 2\n",
        "\n",
        "Question: Write a program that computes the value of a+aa+aaa+aaaa with a given digit as the value of a. Suppose the following input is supplied to the program: 9 Then, the output should be: 11106"
      ]
    },
    {
      "cell_type": "code",
      "metadata": {
        "colab": {
          "base_uri": "https://localhost:8080/"
        },
        "id": "hfpVa9JUnOXD",
        "outputId": "ef840e81-f691-4992-8284-6ea059b56fc0"
      },
      "source": [
        "x=input()\n",
        "print(int(x)+int(x+x)+int(x+x+x)+int(x+x+x+x))"
      ],
      "execution_count": null,
      "outputs": [
        {
          "output_type": "stream",
          "text": [
            "9\n",
            "11106\n"
          ],
          "name": "stdout"
        }
      ]
    },
    {
      "cell_type": "markdown",
      "metadata": {
        "id": "Ai1fqr-ynqbv"
      },
      "source": [
        "###Question 16\n",
        "Level 2\n",
        "\n",
        "Question: Use a list comprehension to square each odd number in a list. The list is input by a sequence of comma-separated numbers. Suppose the following input is supplied to the program: 1,2,3,4,5,6,7,8,9 Then, the output should be: 1,9,25,49,81"
      ]
    },
    {
      "cell_type": "code",
      "metadata": {
        "colab": {
          "base_uri": "https://localhost:8080/"
        },
        "id": "oadjmRwznras",
        "outputId": "4181fecf-08e6-410c-951a-6db8bf9e922d"
      },
      "source": [
        "x=input()\n",
        "x = x.split(',')\n",
        "[int(d)*int(d) for d in x if int(d)%2==1]"
      ],
      "execution_count": null,
      "outputs": [
        {
          "output_type": "stream",
          "text": [
            "1,2,3,4,5,6,7,8,9\n"
          ],
          "name": "stdout"
        },
        {
          "output_type": "execute_result",
          "data": {
            "text/plain": [
              "[1, 9, 25, 49, 81]"
            ]
          },
          "metadata": {
            "tags": []
          },
          "execution_count": 101
        }
      ]
    },
    {
      "cell_type": "markdown",
      "metadata": {
        "id": "k0O79Rnpo6bA"
      },
      "source": [
        "###Question 17\n",
        "Level 2\n",
        "\n",
        "Question: Write a program that computes the net amount of a bank account based a transaction log from console input. The transaction log format is shown as following: D 100 W 200\n",
        "\n",
        "D means deposit while W means withdrawal. Suppose the following input is supplied to the program: D 300 D 300 W 200 D 100 Then, the output should be: 500"
      ]
    },
    {
      "cell_type": "code",
      "metadata": {
        "colab": {
          "base_uri": "https://localhost:8080/"
        },
        "id": "eW61ZB14pAce",
        "outputId": "67ff0d83-8503-4fd7-a45c-0af43ec841aa"
      },
      "source": [
        "x=input()\n",
        "x = x.split(' ')\n",
        "net=0\n",
        "for i in x:\n",
        "  if i=='D':\n",
        "    mult=1\n",
        "  elif i=='W':\n",
        "    mult=-1\n",
        "  else:\n",
        "    net+=mult*int(i)\n",
        "print(net)"
      ],
      "execution_count": null,
      "outputs": [
        {
          "output_type": "stream",
          "text": [
            "D 300 D 300 W 200 D 100\n",
            "500\n"
          ],
          "name": "stdout"
        }
      ]
    },
    {
      "cell_type": "markdown",
      "metadata": {
        "id": "u6A-gz0SqG6f"
      },
      "source": [
        "###Question 18\n",
        "Level 3\n",
        "\n",
        "Question: A website requires the users to input username and password to register. Write a program to check the validity of password input by users. Following are the criteria for checking the password:\n",
        "\n",
        "At least 1 letter between [a-z]\n",
        "At least 1 number between [0-9]\n",
        "At least 1 letter between [A-Z]\n",
        "At least 1 character from [$#@]\n",
        "Minimum length of transaction password: 6\n",
        "Maximum length of transaction password: 12 Your program should accept a sequence of comma separated passwords and will check them according to the above criteria. Passwords that match the criteria are to be printed, each separated by a comma. Example If the following passwords are given as input to the program: ABd1234@1,a F1#,2w3E*,2We3345 Then, the output of the program should be: ABd1234@1"
      ]
    },
    {
      "cell_type": "code",
      "metadata": {
        "colab": {
          "base_uri": "https://localhost:8080/"
        },
        "id": "5XolKNi6qKdM",
        "outputId": "246cb298-140c-4a81-e889-aaee470626fb"
      },
      "source": [
        "x=input()\n",
        "x=x.split(',')\n",
        "l=[]\n",
        "def check(x):\n",
        "  if len(x)<6 or len(x)>12:\n",
        "    return False\n",
        "  d=0\n",
        "  u=0\n",
        "  l=0\n",
        "  a=0\n",
        "  for i in x:\n",
        "    if i.isdigit():\n",
        "      d+=1\n",
        "    elif i.isupper():\n",
        "      u+=1\n",
        "    elif i.islower():\n",
        "      l+=1\n",
        "    elif i in ['$','#','@']:\n",
        "      a+=1\n",
        "  \n",
        "  if d>0 and u>0 and l>0 and a>0:\n",
        "    return True\n",
        "  else:\n",
        "    return False\n",
        "    \n",
        "for i in x:\n",
        "  if check(i):\n",
        "    l.append(i)\n",
        "print(','.join(l))"
      ],
      "execution_count": null,
      "outputs": [
        {
          "output_type": "stream",
          "text": [
            "ABd1234@1,a F1#,2w3E*,2We3345\n",
            "ABd1234@1\n"
          ],
          "name": "stdout"
        }
      ]
    },
    {
      "cell_type": "markdown",
      "metadata": {
        "id": "eXtlQ_q8r0-l"
      },
      "source": [
        "###Question 19\n",
        "Level 3\n",
        "\n",
        "Question: You are required to write a program to sort the (name, age, height) tuples by ascending order where name is string, age and height are numbers. The tuples are input by console. The sort criteria is: 1: Sort based on name; 2: Then sort based on age; 3: Then sort by score. The priority is that name > age > score. If the following tuples are given as input to the program: Tom,19,80 John,20,90 Jony,17,91 Jony,17,93 Json,21,85 Then, the output of the program should be: [('John', '20', '90'), ('Jony', '17', '91'), ('Jony', '17', '93'), ('Json', '21', '85'), ('Tom', '19', '80')]"
      ]
    },
    {
      "cell_type": "code",
      "metadata": {
        "colab": {
          "base_uri": "https://localhost:8080/"
        },
        "id": "jbZU1iRjsZmA",
        "outputId": "1f798270-7f85-4918-aa96-fab834de7001"
      },
      "source": [
        "x=input()\n",
        "x=x.split(' ')\n",
        "x = [a.split(',') for a in x]\n",
        "x.sort(key=lambda x:x[2])\n",
        "x.sort(key=lambda x:x[1])\n",
        "x.sort(key=lambda x:x[0])\n",
        "print(x)"
      ],
      "execution_count": null,
      "outputs": [
        {
          "output_type": "stream",
          "text": [
            "Tom,19,80 John,20,90 Jony,17,91 Jony,17,93 Json,21,85\n",
            "[['John', '20', '90'], ['Jony', '17', '91'], ['Jony', '17', '93'], ['Json', '21', '85'], ['Tom', '19', '80']]\n"
          ],
          "name": "stdout"
        }
      ]
    },
    {
      "cell_type": "markdown",
      "metadata": {
        "id": "y1QEXg31uS-r"
      },
      "source": [
        "###Question 20\n",
        "Level 3\n",
        "\n",
        "Question: Define a class with a generator which can iterate the numbers, which are divisible by 7, between a given range 0 and n."
      ]
    },
    {
      "cell_type": "code",
      "metadata": {
        "colab": {
          "base_uri": "https://localhost:8080/"
        },
        "id": "5zSyi6rVvWmD",
        "outputId": "f9f1f7c9-ed12-4fc8-ab6f-f4705f7a1c10"
      },
      "source": [
        "def niter(n):\n",
        "  for i in range(n+1):\n",
        "    if i%7==0:\n",
        "      yield i\n",
        "a=niter(100)\n",
        "print(next(a))\n",
        "print(next(a))\n",
        "print(next(a))\n",
        "l=[]\n",
        "for i in a:\n",
        "  l.append(str(i))\n",
        "print(','.join(l))"
      ],
      "execution_count": null,
      "outputs": [
        {
          "output_type": "stream",
          "text": [
            "0\n",
            "7\n",
            "14\n",
            "21,28,35,42,49,56,63,70,77,84,91,98\n"
          ],
          "name": "stdout"
        }
      ]
    },
    {
      "cell_type": "markdown",
      "metadata": {
        "id": "Xh41vlipuG9P"
      },
      "source": [
        "### Question 21\n",
        "Level 3\n",
        "\n",
        "Question\n",
        "A robot moves in a plane starting from the original point (0,0). The robot can move toward UP, DOWN, LEFT and RIGHT with a given steps. The trace of robot movement is shown as the following:\n",
        "UP 5\n",
        "DOWN 3\n",
        "LEFT 3\n",
        "RIGHT 2\n",
        "\n",
        "The numbers after the direction are steps. Please write a program to compute the distance from current position after a sequence of movement and original point. If the distance is a float, then just print the nearest integer.\n",
        "Example:\n",
        "If the following tuples are given as input to the program:\n",
        "UP 5\n",
        "DOWN 3\n",
        "LEFT 3\n",
        "RIGHT 2\n",
        "Then, the output of the program should be:\n",
        "2"
      ]
    },
    {
      "cell_type": "code",
      "metadata": {
        "colab": {
          "base_uri": "https://localhost:8080/"
        },
        "id": "47x-oRTGuw1A",
        "outputId": "62beda00-b647-4cbe-84bf-bbbd669e64b6"
      },
      "source": [
        "x=input()\n",
        "x=x.split(' ')\n",
        "X=0\n",
        "Y=0\n",
        "for i in x:\n",
        "  if i=='UP':\n",
        "    ymult=1\n",
        "    xmult=0\n",
        "  elif i=='DOWN':\n",
        "    ymult=-1\n",
        "    xmult=0\n",
        "  elif i=='LEFT':\n",
        "    xmult=-1\n",
        "    ymult=0\n",
        "  elif i=='RIGHT':\n",
        "    xmult=1\n",
        "    ymult=0\n",
        "  else:\n",
        "    X+=xmult*int(i)\n",
        "    Y+=ymult*int(i)\n",
        "print(round(math.sqrt(X**2+Y**2)))"
      ],
      "execution_count": null,
      "outputs": [
        {
          "output_type": "stream",
          "text": [
            "UP 5 DOWN 3 LEFT 3 RIGHT 2\n",
            "2\n"
          ],
          "name": "stdout"
        }
      ]
    },
    {
      "cell_type": "markdown",
      "metadata": {
        "id": "BJKH2AcqwRUW"
      },
      "source": [
        "###Question 22\n",
        "Level 3\n",
        "\n",
        "Question: Write a program to compute the frequency of the words from the input. The output should output after sorting the key alphanumerically. Suppose the following input is supplied to the program: New to Python or choosing between Python 2 and Python 3? Read Python 2 or Python 3. Then, the output should be: 2:2 3.:1 3?:1 New:1 Python:5 Read:1 and:1 between:1 choosing:1 or:2 to:1"
      ]
    },
    {
      "cell_type": "code",
      "metadata": {
        "colab": {
          "base_uri": "https://localhost:8080/"
        },
        "id": "Dq7hP0fzxA9l",
        "outputId": "ac415c1b-a844-4561-edf7-630bef2bbef8"
      },
      "source": [
        "x=input()\n",
        "x=x.split(' ')\n",
        "d={}\n",
        "for i in x:\n",
        "  if i not in d:\n",
        "    d[i]=1\n",
        "  else:\n",
        "    d[i]+=1\n",
        "dkeys=sorted(d)\n",
        "for i in dkeys:\n",
        "  print(str(i)+':'+str(d[i]))"
      ],
      "execution_count": null,
      "outputs": [
        {
          "output_type": "stream",
          "text": [
            "New to Python or choosing between Python 2 and Python 3? Read Python 2 or Python 3\n",
            "2:2\n",
            "3:1\n",
            "3?:1\n",
            "New:1\n",
            "Python:5\n",
            "Read:1\n",
            "and:1\n",
            "between:1\n",
            "choosing:1\n",
            "or:2\n",
            "to:1\n"
          ],
          "name": "stdout"
        }
      ]
    },
    {
      "cell_type": "markdown",
      "metadata": {
        "id": "QWC_808PyqkQ"
      },
      "source": [
        "### Question 23\n",
        "level 1\n",
        "\n",
        "Question:\n",
        "Write a method which can calculate square value of number"
      ]
    },
    {
      "cell_type": "code",
      "metadata": {
        "colab": {
          "base_uri": "https://localhost:8080/"
        },
        "id": "8JrDHh9Czw3p",
        "outputId": "fd2595b9-8c97-41e1-fa88-d2ac6950ca1c"
      },
      "source": [
        "def sq(n):\n",
        "  return n**2\n",
        "print(sq(5),sq(100),sq(9))"
      ],
      "execution_count": null,
      "outputs": [
        {
          "output_type": "stream",
          "text": [
            "25 10000 81\n"
          ],
          "name": "stdout"
        }
      ]
    },
    {
      "cell_type": "markdown",
      "metadata": {
        "id": "cGhA8p-uz9bD"
      },
      "source": [
        "### Question 24\n",
        "Level 1\n",
        "\n",
        "Question:\n",
        "\n",
        "Python has many built-in functions, and if you do not know how to use it, you can read document online or find some books. But Python has a built-in document function for every built-in functions.\n",
        "\n",
        "Please write a program to print some Python built-in functions documents, such as abs(), int(), raw_input()\n",
        "\n",
        "And add document for your own function"
      ]
    },
    {
      "cell_type": "code",
      "metadata": {
        "colab": {
          "base_uri": "https://localhost:8080/"
        },
        "id": "AAi5x0CE0DHX",
        "outputId": "e8932907-1379-4e27-83e0-cba8e84f3454"
      },
      "source": [
        "def func():\n",
        "  '''\n",
        "  This does nothing\n",
        "  '''\n",
        "  pass\n",
        "print(func.__doc__)\n",
        "print(abs.__doc__)\n",
        "print(int.__doc__)\n",
        "print(input.__doc__)"
      ],
      "execution_count": null,
      "outputs": [
        {
          "output_type": "stream",
          "text": [
            "\n",
            "  This does nothing\n",
            "  \n",
            "Return the absolute value of the argument.\n",
            "int([x]) -> integer\n",
            "int(x, base=10) -> integer\n",
            "\n",
            "Convert a number or string to an integer, or return 0 if no arguments\n",
            "are given.  If x is a number, return x.__int__().  For floating point\n",
            "numbers, this truncates towards zero.\n",
            "\n",
            "If x is not a number or if base is given, then x must be a string,\n",
            "bytes, or bytearray instance representing an integer literal in the\n",
            "given base.  The literal can be preceded by '+' or '-' and be surrounded\n",
            "by whitespace.  The base defaults to 10.  Valid bases are 0 and 2-36.\n",
            "Base 0 means to interpret the base from the string as an integer literal.\n",
            ">>> int('0b100', base=0)\n",
            "4\n",
            "Forward raw_input to frontends\n",
            "\n",
            "        Raises\n",
            "        ------\n",
            "        StdinNotImplentedError if active frontend doesn't support stdin.\n",
            "        \n"
          ],
          "name": "stdout"
        }
      ]
    },
    {
      "cell_type": "markdown",
      "metadata": {
        "id": "TWDypZgu06H3"
      },
      "source": [
        "### Question 25\n",
        "Level 1\n",
        "\n",
        "Question:\n",
        "Define a class, which have a class parameter and have a same instance parameter.\n"
      ]
    },
    {
      "cell_type": "code",
      "metadata": {
        "colab": {
          "base_uri": "https://localhost:8080/"
        },
        "id": "7ZdbjA5P07gv",
        "outputId": "3d178f7d-8383-476a-c6b1-bd4f51bd6695"
      },
      "source": [
        "class myclass:\n",
        "  hello='123'\n",
        "  def __init__(self):\n",
        "    self.hello='hello'\n",
        "a=myclass()\n",
        "print(myclass.hello,a.hello)"
      ],
      "execution_count": null,
      "outputs": [
        {
          "output_type": "stream",
          "text": [
            "123 hello\n"
          ],
          "name": "stdout"
        }
      ]
    },
    {
      "cell_type": "markdown",
      "metadata": {
        "id": "Y1lmH9zy1ZiL"
      },
      "source": [
        "### Question 26:\n",
        "Define a function which can compute the sum of two numbers."
      ]
    },
    {
      "cell_type": "code",
      "metadata": {
        "colab": {
          "base_uri": "https://localhost:8080/"
        },
        "id": "Uj4AJRJT1ayP",
        "outputId": "488aaf85-2dbc-4a34-9a07-e8aaa9fdd61a"
      },
      "source": [
        "def func(a,b):\n",
        "  return int(float(a)+float(b))\n",
        "func(1,'4')"
      ],
      "execution_count": null,
      "outputs": [
        {
          "output_type": "execute_result",
          "data": {
            "text/plain": [
              "5"
            ]
          },
          "metadata": {
            "tags": []
          },
          "execution_count": 27
        }
      ]
    },
    {
      "cell_type": "markdown",
      "metadata": {
        "id": "xvElAsK110Dp"
      },
      "source": [
        "### Question 27\n",
        "Define a function that can convert an integer into a string and print it in console."
      ]
    },
    {
      "cell_type": "code",
      "metadata": {
        "colab": {
          "base_uri": "https://localhost:8080/"
        },
        "id": "NIWeGJcl11Je",
        "outputId": "8da5e924-89f6-45e3-e767-566916c967a3"
      },
      "source": [
        "def func(a):\n",
        "  print(str(a))\n",
        "func(2)"
      ],
      "execution_count": null,
      "outputs": [
        {
          "output_type": "stream",
          "text": [
            "2\n"
          ],
          "name": "stdout"
        }
      ]
    },
    {
      "cell_type": "markdown",
      "metadata": {
        "id": "FvDlXVT72Bjb"
      },
      "source": [
        "### Question 28\n",
        "Define a function that can convert a integer into a string and print it in console."
      ]
    },
    {
      "cell_type": "code",
      "metadata": {
        "id": "gddUutaR2CU1"
      },
      "source": [
        "#Literally the same as the last question"
      ],
      "execution_count": null,
      "outputs": []
    },
    {
      "cell_type": "markdown",
      "metadata": {
        "id": "VTPW_1l92VX6"
      },
      "source": [
        "### Question 29\n",
        "Define a function that can receive two integral numbers in string form and compute their sum and then print it in console.\n"
      ]
    },
    {
      "cell_type": "code",
      "metadata": {
        "colab": {
          "base_uri": "https://localhost:8080/"
        },
        "id": "comPo3LB2a-1",
        "outputId": "25b52925-0b3f-4962-cfae-6fe663db4285"
      },
      "source": [
        "def func(a,b):\n",
        "  print(int(a)+int(b))\n",
        "func('12','3')"
      ],
      "execution_count": null,
      "outputs": [
        {
          "output_type": "stream",
          "text": [
            "15\n"
          ],
          "name": "stdout"
        }
      ]
    },
    {
      "cell_type": "markdown",
      "metadata": {
        "id": "mbIt8QUi2oSJ"
      },
      "source": [
        "### Question 30\n",
        "Define a function that can accept two strings as input and concatenate them and then print it in console.\n"
      ]
    },
    {
      "cell_type": "code",
      "metadata": {
        "colab": {
          "base_uri": "https://localhost:8080/"
        },
        "id": "6AQS_tbj2rwH",
        "outputId": "628c4de3-6593-4ef8-aad5-1456ec7d9e83"
      },
      "source": [
        "def func(a,b):\n",
        "  print(a+b)\n",
        "func('hi','hello')"
      ],
      "execution_count": null,
      "outputs": [
        {
          "output_type": "stream",
          "text": [
            "hihello\n"
          ],
          "name": "stdout"
        }
      ]
    },
    {
      "cell_type": "markdown",
      "metadata": {
        "id": "OuaCcxbE2719"
      },
      "source": [
        "### Question 31\n",
        "Define a function that can accept two strings as input and print the string with maximum length in console. If two strings have the same length, then the function should print all strings line by line.\n"
      ]
    },
    {
      "cell_type": "code",
      "metadata": {
        "colab": {
          "base_uri": "https://localhost:8080/"
        },
        "id": "VOojFpdY28yo",
        "outputId": "02bc21db-d6a1-4dac-f993-620f5a7d4a7c"
      },
      "source": [
        "def func(a,b):\n",
        "  if len(a)>len(b):\n",
        "    print(a)\n",
        "  elif len(a)<len(b):\n",
        "    print(b)\n",
        "  else:\n",
        "    print(a)\n",
        "    print(b)\n",
        "func('asd','a')\n",
        "func('asd','aasd')\n",
        "func('asd','agf')"
      ],
      "execution_count": null,
      "outputs": [
        {
          "output_type": "stream",
          "text": [
            "asd\n",
            "aasd\n",
            "asd\n",
            "agf\n"
          ],
          "name": "stdout"
        }
      ]
    },
    {
      "cell_type": "markdown",
      "metadata": {
        "id": "GmZcW2jI3a8z"
      },
      "source": [
        "### Question 32\n",
        "Define a function that can accept an integer number as input and print the \"It is an even number\" if the number is even, otherwise print \"It is an odd number\".\n"
      ]
    },
    {
      "cell_type": "code",
      "metadata": {
        "colab": {
          "base_uri": "https://localhost:8080/"
        },
        "id": "3lUqv7hz3qmu",
        "outputId": "b138eb81-256e-4548-e5ec-63f3c6d1389f"
      },
      "source": [
        "def func(n):\n",
        "  if n%2==0:\n",
        "    print('It is an even number')\n",
        "  else:\n",
        "    print(\"It is an odd number\")\n",
        "func(22)\n",
        "func(23)"
      ],
      "execution_count": null,
      "outputs": [
        {
          "output_type": "stream",
          "text": [
            "It is an even number\n",
            "It is an odd number\n"
          ],
          "name": "stdout"
        }
      ]
    },
    {
      "cell_type": "markdown",
      "metadata": {
        "id": "Uxywad0O35kr"
      },
      "source": [
        "### Question 33\n",
        "Define a function which can print a dictionary where the keys are numbers between 1 and 3 (both included) and the values are square of keys.\n"
      ]
    },
    {
      "cell_type": "code",
      "metadata": {
        "colab": {
          "base_uri": "https://localhost:8080/"
        },
        "id": "AmpUFlfV38_h",
        "outputId": "c2459463-c4bb-4e94-89bf-b05548afe5bc"
      },
      "source": [
        "def func():\n",
        "  d = {d: d**2 for d in [1,2,3]}\n",
        "  print(d)\n",
        "func()"
      ],
      "execution_count": null,
      "outputs": [
        {
          "output_type": "stream",
          "text": [
            "{1: 1, 2: 4, 3: 9}\n"
          ],
          "name": "stdout"
        }
      ]
    },
    {
      "cell_type": "markdown",
      "metadata": {
        "id": "ykkmO9tr4Up-"
      },
      "source": [
        "### Question 34\n",
        "Define a function which can print a dictionary where the keys are numbers between 1 and 20 (both included) and the values are square of keys.\n"
      ]
    },
    {
      "cell_type": "code",
      "metadata": {
        "colab": {
          "base_uri": "https://localhost:8080/"
        },
        "id": "Q9KnyUSN4XIT",
        "outputId": "48276210-ba14-4f52-ce96-0791af1625bd"
      },
      "source": [
        "def func():\n",
        "  d = {d: d**2 for d in range(1,21)}\n",
        "  print(d)\n",
        "func()"
      ],
      "execution_count": null,
      "outputs": [
        {
          "output_type": "stream",
          "text": [
            "{1: 1, 2: 4, 3: 9, 4: 16, 5: 25, 6: 36, 7: 49, 8: 64, 9: 81, 10: 100, 11: 121, 12: 144, 13: 169, 14: 196, 15: 225, 16: 256, 17: 289, 18: 324, 19: 361, 20: 400}\n"
          ],
          "name": "stdout"
        }
      ]
    },
    {
      "cell_type": "markdown",
      "metadata": {
        "id": "2YySDmkx4u1s"
      },
      "source": [
        "### Question 35\n",
        "Define a function which can generate a dictionary where the keys are numbers between 1 and 20 (both included) and the values are square of keys. The function should just print the values only.\n"
      ]
    },
    {
      "cell_type": "code",
      "metadata": {
        "colab": {
          "base_uri": "https://localhost:8080/"
        },
        "id": "N5pxLPo04vl7",
        "outputId": "4b1f8ec7-b0c3-4f7a-be96-64fd2e6e1a52"
      },
      "source": [
        "def func():\n",
        "  d = {d: d**2 for d in range(1,21)}\n",
        "  for i in d.values():\n",
        "    print(i)\n",
        "func()"
      ],
      "execution_count": null,
      "outputs": [
        {
          "output_type": "stream",
          "text": [
            "1\n",
            "4\n",
            "9\n",
            "16\n",
            "25\n",
            "36\n",
            "49\n",
            "64\n",
            "81\n",
            "100\n",
            "121\n",
            "144\n",
            "169\n",
            "196\n",
            "225\n",
            "256\n",
            "289\n",
            "324\n",
            "361\n",
            "400\n"
          ],
          "name": "stdout"
        }
      ]
    },
    {
      "cell_type": "markdown",
      "metadata": {
        "id": "LYU2el8W4-8d"
      },
      "source": [
        "### Question 36\n",
        "Define a function which can generate a dictionary where the keys are numbers between 1 and 20 (both included) and the values are square of keys. The function should just print the keys only.\n"
      ]
    },
    {
      "cell_type": "code",
      "metadata": {
        "colab": {
          "base_uri": "https://localhost:8080/"
        },
        "id": "5ZRnZJuc5Coj",
        "outputId": "975a87de-3728-427f-e6cd-52a2a041ef10"
      },
      "source": [
        "def func():\n",
        "  d = {d: d**2 for d in range(1,21)}\n",
        "  for i in d.keys():\n",
        "    print(i)\n",
        "func()"
      ],
      "execution_count": null,
      "outputs": [
        {
          "output_type": "stream",
          "text": [
            "1\n",
            "2\n",
            "3\n",
            "4\n",
            "5\n",
            "6\n",
            "7\n",
            "8\n",
            "9\n",
            "10\n",
            "11\n",
            "12\n",
            "13\n",
            "14\n",
            "15\n",
            "16\n",
            "17\n",
            "18\n",
            "19\n",
            "20\n"
          ],
          "name": "stdout"
        }
      ]
    },
    {
      "cell_type": "markdown",
      "metadata": {
        "id": "HpSKljtj5Msu"
      },
      "source": [
        "### Question 37\n",
        "Define a function which can generate and print a list where the values are square of numbers between 1 and 20 (both included).\n"
      ]
    },
    {
      "cell_type": "code",
      "metadata": {
        "colab": {
          "base_uri": "https://localhost:8080/"
        },
        "id": "DC8rrCS85PxH",
        "outputId": "269e9a5f-0be6-43ea-de00-8213e1b7c092"
      },
      "source": [
        "def func():\n",
        "  d = {d: d**2 for d in range(1,21)}\n",
        "  print(list(d.values()))\n",
        "func()"
      ],
      "execution_count": null,
      "outputs": [
        {
          "output_type": "stream",
          "text": [
            "[1, 4, 9, 16, 25, 36, 49, 64, 81, 100, 121, 144, 169, 196, 225, 256, 289, 324, 361, 400]\n"
          ],
          "name": "stdout"
        }
      ]
    },
    {
      "cell_type": "markdown",
      "metadata": {
        "id": "CePGJXcD5lYD"
      },
      "source": [
        "### Question 38\n",
        "Define a function which can generate a list where the values are square of numbers between 1 and 20 (both included). Then the function needs to print the first 5 elements in the list.\n"
      ]
    },
    {
      "cell_type": "code",
      "metadata": {
        "colab": {
          "base_uri": "https://localhost:8080/"
        },
        "id": "O_KhK_mw5qQQ",
        "outputId": "1cacbc24-ae33-4677-8fdd-7b3a5b48d4af"
      },
      "source": [
        "def func():\n",
        "  d = {d: d**2 for d in range(1,21)}\n",
        "  print(list(d.values())[:5])\n",
        "func()"
      ],
      "execution_count": null,
      "outputs": [
        {
          "output_type": "stream",
          "text": [
            "[1, 4, 9, 16, 25]\n"
          ],
          "name": "stdout"
        }
      ]
    },
    {
      "cell_type": "markdown",
      "metadata": {
        "id": "Hg22nwWw5xyi"
      },
      "source": [
        "### Question 39\n",
        "Define a function which can generate a list where the values are square of numbers between 1 and 20 (both included). Then the function needs to print the last 5 elements in the list.\n"
      ]
    },
    {
      "cell_type": "code",
      "metadata": {
        "colab": {
          "base_uri": "https://localhost:8080/"
        },
        "id": "kN8-0mvO51KP",
        "outputId": "13dc2bf1-250e-477a-937e-361745d7674a"
      },
      "source": [
        "def func():\n",
        "  d = {d: d**2 for d in range(1,21)}\n",
        "  print(list(d.values())[-5:])\n",
        "func()"
      ],
      "execution_count": null,
      "outputs": [
        {
          "output_type": "stream",
          "text": [
            "[256, 289, 324, 361, 400]\n"
          ],
          "name": "stdout"
        }
      ]
    },
    {
      "cell_type": "markdown",
      "metadata": {
        "id": "xcrsdv8C5-Ae"
      },
      "source": [
        "### Question 40\n",
        "Define a function which can generate a list where the values are square of numbers between 1 and 20 (both included). Then the function needs to print all values except the first 5 elements in the list.\n"
      ]
    },
    {
      "cell_type": "code",
      "metadata": {
        "colab": {
          "base_uri": "https://localhost:8080/"
        },
        "id": "P8pQaVEg6D3n",
        "outputId": "40fc7bad-3710-4f4f-9766-9c45eeafe9a8"
      },
      "source": [
        "def func():\n",
        "  d = {d: d**2 for d in range(1,21)}\n",
        "  print(list(d.values())[5:])\n",
        "func()"
      ],
      "execution_count": null,
      "outputs": [
        {
          "output_type": "stream",
          "text": [
            "[36, 49, 64, 81, 100, 121, 144, 169, 196, 225, 256, 289, 324, 361, 400]\n"
          ],
          "name": "stdout"
        }
      ]
    },
    {
      "cell_type": "markdown",
      "metadata": {
        "id": "lCV0q9Mn6ISS"
      },
      "source": [
        "### Question 41\n",
        "Define a function which can generate and print a tuple where the value are square of numbers between 1 and 20 (both included). \n"
      ]
    },
    {
      "cell_type": "code",
      "metadata": {
        "colab": {
          "base_uri": "https://localhost:8080/"
        },
        "id": "qOv8s-e06M0s",
        "outputId": "219cf538-7c84-4762-a837-2ce79fad30c6"
      },
      "source": [
        "def func():\n",
        "  d = {d: d**2 for d in range(1,21)}\n",
        "  print(tuple(d.values()))\n",
        "func()"
      ],
      "execution_count": null,
      "outputs": [
        {
          "output_type": "stream",
          "text": [
            "(1, 4, 9, 16, 25, 36, 49, 64, 81, 100, 121, 144, 169, 196, 225, 256, 289, 324, 361, 400)\n"
          ],
          "name": "stdout"
        }
      ]
    },
    {
      "cell_type": "markdown",
      "metadata": {
        "id": "KMXqQEGx8PJT"
      },
      "source": [
        "### Question 42\n",
        "With a given tuple (1,2,3,4,5,6,7,8,9,10), write a program to print the first half values in one line and the last half values in one line. \n"
      ]
    },
    {
      "cell_type": "code",
      "metadata": {
        "colab": {
          "base_uri": "https://localhost:8080/"
        },
        "id": "dZzZrjpo8SGY",
        "outputId": "5353c753-fdb8-4061-be9d-5ae61f3f9cf4"
      },
      "source": [
        "x= (1,2,3,4,5,6,7,8,9,10)\n",
        "print(x[:len(x)//2])\n",
        "print(x[len(x)//2:])"
      ],
      "execution_count": null,
      "outputs": [
        {
          "output_type": "stream",
          "text": [
            "(1, 2, 3, 4, 5)\n",
            "(6, 7, 8, 9, 10)\n"
          ],
          "name": "stdout"
        }
      ]
    },
    {
      "cell_type": "markdown",
      "metadata": {
        "id": "57FCr-Li82jW"
      },
      "source": [
        "### Question 43\n",
        "Write a program to generate and print another tuple whose values are even numbers in the given tuple (1,2,3,4,5,6,7,8,9,10). \n"
      ]
    },
    {
      "cell_type": "code",
      "metadata": {
        "colab": {
          "base_uri": "https://localhost:8080/"
        },
        "id": "EnZcJaFK86eH",
        "outputId": "c35f1bad-1c77-46ba-af8b-b8f0b48145d2"
      },
      "source": [
        "x = (1,2,3,4,5,6,7,8,9,10)\n",
        "l = []\n",
        "for i in x:\n",
        "  if i%2==0:\n",
        "    l.append(i)\n",
        "print(tuple(l))"
      ],
      "execution_count": null,
      "outputs": [
        {
          "output_type": "stream",
          "text": [
            "(2, 4, 6, 8, 10)\n"
          ],
          "name": "stdout"
        }
      ]
    },
    {
      "cell_type": "markdown",
      "metadata": {
        "id": "q94VmTr_9J1D"
      },
      "source": [
        "### Question 44\n",
        "Write a program which accepts a string as input to print \"Yes\" if the string is \"yes\" or \"YES\" or \"Yes\", otherwise print \"No\". \n"
      ]
    },
    {
      "cell_type": "code",
      "metadata": {
        "colab": {
          "base_uri": "https://localhost:8080/"
        },
        "id": "eCXEVlpt9R3U",
        "outputId": "edbdf639-4463-430a-a991-266f33068807"
      },
      "source": [
        "x = input()\n",
        "if x=='yes' or x=='Yes' or x=='YES':\n",
        "  print(\"Yes\")\n",
        "else:\n",
        "  print(\"No\")"
      ],
      "execution_count": null,
      "outputs": [
        {
          "output_type": "stream",
          "text": [
            "yes\n",
            "Yes\n"
          ],
          "name": "stdout"
        }
      ]
    },
    {
      "cell_type": "markdown",
      "metadata": {
        "id": "rrcLc5NB9k1l"
      },
      "source": [
        "### Question 45\n",
        "Write a program which can filter even numbers in a list by using filter function. The list is: [1,2,3,4,5,6,7,8,9,10].\n"
      ]
    },
    {
      "cell_type": "code",
      "metadata": {
        "colab": {
          "base_uri": "https://localhost:8080/"
        },
        "id": "xvY-IzEt9o6-",
        "outputId": "54cb7082-cf59-4baf-9c61-5960e3da25dd"
      },
      "source": [
        "l = [1,2,3,4,5,6,7,8,9,10]\n",
        "for i in filter(lambda x:x%2==0,l):\n",
        "  print(i)"
      ],
      "execution_count": null,
      "outputs": [
        {
          "output_type": "stream",
          "text": [
            "2\n",
            "4\n",
            "6\n",
            "8\n",
            "10\n"
          ],
          "name": "stdout"
        }
      ]
    },
    {
      "cell_type": "markdown",
      "metadata": {
        "id": "SiuEJPvh-94c"
      },
      "source": [
        "### Question 46\n",
        "Write a program which can map() to make a list whose elements are square of elements in [1,2,3,4,5,6,7,8,9,10].\n"
      ]
    },
    {
      "cell_type": "code",
      "metadata": {
        "colab": {
          "base_uri": "https://localhost:8080/"
        },
        "id": "Lh_-gPKC_ALa",
        "outputId": "46b412f2-69a5-41a7-eba9-1158ddc2f492"
      },
      "source": [
        "l = [1,2,3,4,5,6,7,8,9,10]\n",
        "for i in map(lambda x:x**2,l):\n",
        "  print(i)"
      ],
      "execution_count": null,
      "outputs": [
        {
          "output_type": "stream",
          "text": [
            "1\n",
            "4\n",
            "9\n",
            "16\n",
            "25\n",
            "36\n",
            "49\n",
            "64\n",
            "81\n",
            "100\n"
          ],
          "name": "stdout"
        }
      ]
    },
    {
      "cell_type": "markdown",
      "metadata": {
        "id": "9xRO1LVZqRpr"
      },
      "source": [
        "### Question 47\n",
        "Write a program which can map() and filter() to make a list whose elements are square of even number in [1,2,3,4,5,6,7,8,9,10].\n"
      ]
    },
    {
      "cell_type": "code",
      "metadata": {
        "colab": {
          "base_uri": "https://localhost:8080/"
        },
        "id": "Hf7VWFGsqaB5",
        "outputId": "fff1b2fd-e563-45bd-8e41-403850511693"
      },
      "source": [
        "l = [1,2,3,4,5,6,7,8,9,10]\n",
        "\n",
        "x = map(lambda x:x**2, filter(lambda x:x%2==0,l))\n",
        "for i in x:\n",
        "  print(i)"
      ],
      "execution_count": null,
      "outputs": [
        {
          "output_type": "stream",
          "text": [
            "4\n",
            "16\n",
            "36\n",
            "64\n",
            "100\n"
          ],
          "name": "stdout"
        }
      ]
    },
    {
      "cell_type": "markdown",
      "metadata": {
        "id": "jiJ5JdMhsQcx"
      },
      "source": [
        "### Question 48\n",
        "Write a program which can filter() to make a list whose elements are even number between 1 and 20 (both included).\n"
      ]
    },
    {
      "cell_type": "code",
      "metadata": {
        "colab": {
          "base_uri": "https://localhost:8080/"
        },
        "id": "WufpQCaSI3TW",
        "outputId": "74ebbc24-bbdd-4ea3-d3c0-0cc0b5932076"
      },
      "source": [
        "x = range(1,21)\n",
        "for i in filter(lambda x:x%2==0,x):\n",
        "  print(i)"
      ],
      "execution_count": null,
      "outputs": [
        {
          "output_type": "stream",
          "text": [
            "2\n",
            "4\n",
            "6\n",
            "8\n",
            "10\n",
            "12\n",
            "14\n",
            "16\n",
            "18\n",
            "20\n"
          ],
          "name": "stdout"
        }
      ]
    },
    {
      "cell_type": "markdown",
      "metadata": {
        "id": "z11kSheEJNJ0"
      },
      "source": [
        "### Question 49\n",
        "Write a program which can map() to make a list whose elements are square of numbers between 1 and 20 (both included).\n"
      ]
    },
    {
      "cell_type": "code",
      "metadata": {
        "colab": {
          "base_uri": "https://localhost:8080/"
        },
        "id": "58TAWbivJjuV",
        "outputId": "80829099-965e-4136-886c-db4eb90a4151"
      },
      "source": [
        "x = range(1,21)\n",
        "for i in map(lambda x:x**2,x):\n",
        "  print(i)"
      ],
      "execution_count": null,
      "outputs": [
        {
          "output_type": "stream",
          "text": [
            "1\n",
            "4\n",
            "9\n",
            "16\n",
            "25\n",
            "36\n",
            "49\n",
            "64\n",
            "81\n",
            "100\n",
            "121\n",
            "144\n",
            "169\n",
            "196\n",
            "225\n",
            "256\n",
            "289\n",
            "324\n",
            "361\n",
            "400\n"
          ],
          "name": "stdout"
        }
      ]
    },
    {
      "cell_type": "markdown",
      "metadata": {
        "id": "lOMdkmyOJ1fx"
      },
      "source": [
        "### Question 50\n",
        "Define a class named American which has a static method called printNationality.\n"
      ]
    },
    {
      "cell_type": "code",
      "metadata": {
        "colab": {
          "base_uri": "https://localhost:8080/"
        },
        "id": "xwQfBxj6J2ij",
        "outputId": "1eedca6a-0fd2-486c-9901-96105a55efa7"
      },
      "source": [
        "class American:\n",
        "\n",
        "  @staticmethod \n",
        "  def printNationality():\n",
        "    print(\"American\")\n",
        "\n",
        "a = American()\n",
        "a.printNationality()\n",
        "American.printNationality()"
      ],
      "execution_count": null,
      "outputs": [
        {
          "output_type": "stream",
          "text": [
            "American\n",
            "American\n"
          ],
          "name": "stdout"
        }
      ]
    },
    {
      "cell_type": "markdown",
      "metadata": {
        "id": "chJz7QuBLZ8I"
      },
      "source": [
        "### Question 51\n",
        "Define a class named American and its subclass NewYorker. \n"
      ]
    },
    {
      "cell_type": "code",
      "metadata": {
        "colab": {
          "base_uri": "https://localhost:8080/"
        },
        "id": "fq8xywBULc1K",
        "outputId": "a7cc7756-2b7e-4a43-db9a-a5ac9bd6f765"
      },
      "source": [
        "class American:\n",
        "\n",
        "  @staticmethod \n",
        "  def printNationality():\n",
        "    print(\"American\")\n",
        "\n",
        "class NewYorker(American):\n",
        "    pass\n",
        "a = NewYorker()\n",
        "a.printNationality()\n",
        "American.printNationality()"
      ],
      "execution_count": null,
      "outputs": [
        {
          "output_type": "stream",
          "text": [
            "American\n",
            "American\n"
          ],
          "name": "stdout"
        }
      ]
    },
    {
      "cell_type": "markdown",
      "metadata": {
        "id": "gFnKEtdzMIze"
      },
      "source": [
        "### Question 52\n",
        "Define a class named Circle which can be constructed by a radius. The Circle class has a method which can compute the area. \n"
      ]
    },
    {
      "cell_type": "code",
      "metadata": {
        "id": "h0PRouPqMKxs",
        "colab": {
          "base_uri": "https://localhost:8080/"
        },
        "outputId": "510177da-c899-4db6-dd77-c06eb08b9286"
      },
      "source": [
        "class Circle:\n",
        "  def __init__(self,r):\n",
        "    self.r = r\n",
        "  \n",
        "  def area(self):\n",
        "    return math.pi* (self.r**2)\n",
        "\n",
        "a = Circle(1)\n",
        "b = Circle(2)\n",
        "print(a.area(),b.area())"
      ],
      "execution_count": null,
      "outputs": [
        {
          "output_type": "stream",
          "text": [
            "3.141592653589793 12.566370614359172\n"
          ],
          "name": "stdout"
        }
      ]
    },
    {
      "cell_type": "markdown",
      "metadata": {
        "id": "QSChcbk2s-E3"
      },
      "source": [
        "### Question 53\n",
        "Define a class named Rectangle which can be constructed by a length and width. The Rectangle class has a method which can compute the area. \n"
      ]
    },
    {
      "cell_type": "code",
      "metadata": {
        "colab": {
          "base_uri": "https://localhost:8080/"
        },
        "id": "TmwMkzNqtDjD",
        "outputId": "81a8491e-557b-4385-8542-f87aaa343e7b"
      },
      "source": [
        "class Rectangle:\n",
        "  def __init__(self,l,w):\n",
        "    self.l = l\n",
        "    self.w = w\n",
        "  \n",
        "  def area(self):\n",
        "    return self.l*self.w\n",
        "\n",
        "a = Rectangle(1,2)\n",
        "b = Rectangle(2,4)\n",
        "print(a.area(),b.area())"
      ],
      "execution_count": null,
      "outputs": [
        {
          "output_type": "stream",
          "text": [
            "2 8\n"
          ],
          "name": "stdout"
        }
      ]
    },
    {
      "cell_type": "markdown",
      "metadata": {
        "id": "Fl8e_7SAtSmU"
      },
      "source": [
        "### Question 54\n",
        "Define a class named Shape and its subclass Square. The Square class has an init function which takes a length as argument. Both classes have a area function which can print the area of the shape where Shape's area is 0 by default.\n"
      ]
    },
    {
      "cell_type": "code",
      "metadata": {
        "colab": {
          "base_uri": "https://localhost:8080/"
        },
        "id": "3ZS0DS8WtVwO",
        "outputId": "df085368-8706-4c7c-a573-966f18875183"
      },
      "source": [
        "class Shape:\n",
        "  def area(self):\n",
        "    return 0\n",
        "\n",
        "class Square(Shape):\n",
        "  def __init__(self,l):\n",
        "    self.l = l\n",
        "  def area(self):\n",
        "    return self.l**2\n",
        "\n",
        "a = Shape()\n",
        "b = Square(2)\n",
        "print(a.area(),b.area())"
      ],
      "execution_count": null,
      "outputs": [
        {
          "output_type": "stream",
          "text": [
            "0 4\n"
          ],
          "name": "stdout"
        }
      ]
    },
    {
      "cell_type": "markdown",
      "metadata": {
        "id": "OtGl00y3uMqf"
      },
      "source": [
        "### Question 55\n",
        "Please raise a RuntimeError exception.\n"
      ]
    },
    {
      "cell_type": "code",
      "metadata": {
        "colab": {
          "base_uri": "https://localhost:8080/",
          "height": 163
        },
        "id": "gxBUcdr3ui1H",
        "outputId": "afb58738-1d99-4158-f792-d0f2add038c5"
      },
      "source": [
        "raise RuntimeError(\"Hi\")"
      ],
      "execution_count": null,
      "outputs": [
        {
          "output_type": "error",
          "ename": "RuntimeError",
          "evalue": "ignored",
          "traceback": [
            "\u001b[0;31m---------------------------------------------------------------------------\u001b[0m",
            "\u001b[0;31mRuntimeError\u001b[0m                              Traceback (most recent call last)",
            "\u001b[0;32m<ipython-input-7-49a34530f0dd>\u001b[0m in \u001b[0;36m<module>\u001b[0;34m()\u001b[0m\n\u001b[0;32m----> 1\u001b[0;31m \u001b[0;32mraise\u001b[0m \u001b[0mRuntimeError\u001b[0m\u001b[0;34m(\u001b[0m\u001b[0;34m\"Hi\"\u001b[0m\u001b[0;34m)\u001b[0m\u001b[0;34m\u001b[0m\u001b[0;34m\u001b[0m\u001b[0m\n\u001b[0m",
            "\u001b[0;31mRuntimeError\u001b[0m: Hi"
          ]
        }
      ]
    },
    {
      "cell_type": "markdown",
      "metadata": {
        "id": "-zGWCGcmumPT"
      },
      "source": [
        "### Question 56\n",
        "Write a function to compute 5/0 and use try/except to catch the exceptions.\n"
      ]
    },
    {
      "cell_type": "code",
      "metadata": {
        "id": "KyXFuYdVvEuc",
        "colab": {
          "base_uri": "https://localhost:8080/",
          "height": 425
        },
        "outputId": "85799404-2805-4fed-97da-a3d53d9f0915"
      },
      "source": [
        "def func(a,b):\n",
        "  try:\n",
        "    return a/b\n",
        "  except:\n",
        "    raise Exception(\"Couldn't divide\")\n",
        "\n",
        "func(5,0)"
      ],
      "execution_count": null,
      "outputs": [
        {
          "output_type": "error",
          "ename": "Exception",
          "evalue": "ignored",
          "traceback": [
            "\u001b[0;31m---------------------------------------------------------------------------\u001b[0m",
            "\u001b[0;31mZeroDivisionError\u001b[0m                         Traceback (most recent call last)",
            "\u001b[0;32m<ipython-input-10-fee34faa6b04>\u001b[0m in \u001b[0;36mfunc\u001b[0;34m(a, b)\u001b[0m\n\u001b[1;32m      2\u001b[0m   \u001b[0;32mtry\u001b[0m\u001b[0;34m:\u001b[0m\u001b[0;34m\u001b[0m\u001b[0;34m\u001b[0m\u001b[0m\n\u001b[0;32m----> 3\u001b[0;31m     \u001b[0;32mreturn\u001b[0m \u001b[0ma\u001b[0m\u001b[0;34m/\u001b[0m\u001b[0mb\u001b[0m\u001b[0;34m\u001b[0m\u001b[0;34m\u001b[0m\u001b[0m\n\u001b[0m\u001b[1;32m      4\u001b[0m   \u001b[0;32mexcept\u001b[0m\u001b[0;34m:\u001b[0m\u001b[0;34m\u001b[0m\u001b[0;34m\u001b[0m\u001b[0m\n",
            "\u001b[0;31mZeroDivisionError\u001b[0m: division by zero",
            "\nDuring handling of the above exception, another exception occurred:\n",
            "\u001b[0;31mException\u001b[0m                                 Traceback (most recent call last)",
            "\u001b[0;32m<ipython-input-10-fee34faa6b04>\u001b[0m in \u001b[0;36m<module>\u001b[0;34m()\u001b[0m\n\u001b[1;32m      5\u001b[0m     \u001b[0;32mraise\u001b[0m \u001b[0mException\u001b[0m\u001b[0;34m(\u001b[0m\u001b[0;34m\"Couldn't divide\"\u001b[0m\u001b[0;34m)\u001b[0m\u001b[0;34m\u001b[0m\u001b[0;34m\u001b[0m\u001b[0m\n\u001b[1;32m      6\u001b[0m \u001b[0;34m\u001b[0m\u001b[0m\n\u001b[0;32m----> 7\u001b[0;31m \u001b[0mfunc\u001b[0m\u001b[0;34m(\u001b[0m\u001b[0;36m5\u001b[0m\u001b[0;34m,\u001b[0m\u001b[0;36m0\u001b[0m\u001b[0;34m)\u001b[0m\u001b[0;34m\u001b[0m\u001b[0;34m\u001b[0m\u001b[0m\n\u001b[0m",
            "\u001b[0;32m<ipython-input-10-fee34faa6b04>\u001b[0m in \u001b[0;36mfunc\u001b[0;34m(a, b)\u001b[0m\n\u001b[1;32m      3\u001b[0m     \u001b[0;32mreturn\u001b[0m \u001b[0ma\u001b[0m\u001b[0;34m/\u001b[0m\u001b[0mb\u001b[0m\u001b[0;34m\u001b[0m\u001b[0;34m\u001b[0m\u001b[0m\n\u001b[1;32m      4\u001b[0m   \u001b[0;32mexcept\u001b[0m\u001b[0;34m:\u001b[0m\u001b[0;34m\u001b[0m\u001b[0;34m\u001b[0m\u001b[0m\n\u001b[0;32m----> 5\u001b[0;31m     \u001b[0;32mraise\u001b[0m \u001b[0mException\u001b[0m\u001b[0;34m(\u001b[0m\u001b[0;34m\"Couldn't divide\"\u001b[0m\u001b[0;34m)\u001b[0m\u001b[0;34m\u001b[0m\u001b[0;34m\u001b[0m\u001b[0m\n\u001b[0m\u001b[1;32m      6\u001b[0m \u001b[0;34m\u001b[0m\u001b[0m\n\u001b[1;32m      7\u001b[0m \u001b[0mfunc\u001b[0m\u001b[0;34m(\u001b[0m\u001b[0;36m5\u001b[0m\u001b[0;34m,\u001b[0m\u001b[0;36m0\u001b[0m\u001b[0;34m)\u001b[0m\u001b[0;34m\u001b[0m\u001b[0;34m\u001b[0m\u001b[0m\n",
            "\u001b[0;31mException\u001b[0m: Couldn't divide"
          ]
        }
      ]
    },
    {
      "cell_type": "markdown",
      "metadata": {
        "id": "9nuidap83EPT"
      },
      "source": [
        "### Question 57\n",
        "Define a custom exception class which takes a string message as attribute.\n"
      ]
    },
    {
      "cell_type": "code",
      "metadata": {
        "id": "4D9STP5x3G2r"
      },
      "source": [
        "class custException(Exception):\n",
        "  def __init__(self,s):\n",
        "    self.s=s\n",
        "\n",
        "a = custException('yo')"
      ],
      "execution_count": null,
      "outputs": []
    },
    {
      "cell_type": "markdown",
      "metadata": {
        "id": "c16jOmlf3a27"
      },
      "source": [
        "### Question 58\n",
        "Assuming that we have some email addresses in the \"username@companyname.com\" format, please write program to print the user name of a given email address. Both user names and company names are composed of letters only.\n",
        "\n",
        "Example:\n",
        "If the following email address is given as input to the program:\n",
        "\n",
        "john@google.com\n",
        "\n",
        "Then, the output of the program should be:\n",
        "\n",
        "john\n",
        "\n",
        "In case of input data being supplied to the question, it should be assumed to be a console input.\n"
      ]
    },
    {
      "cell_type": "code",
      "metadata": {
        "colab": {
          "base_uri": "https://localhost:8080/",
          "height": 52
        },
        "id": "LTNwjEK73x-8",
        "outputId": "695ccf21-0bd0-480d-cefb-94fcc98eac69"
      },
      "source": [
        "x = input()\n",
        "x.split('@')[0]"
      ],
      "execution_count": null,
      "outputs": [
        {
          "output_type": "stream",
          "text": [
            "john@google.com\n"
          ],
          "name": "stdout"
        },
        {
          "output_type": "execute_result",
          "data": {
            "application/vnd.google.colaboratory.intrinsic+json": {
              "type": "string"
            },
            "text/plain": [
              "'john'"
            ]
          },
          "metadata": {
            "tags": []
          },
          "execution_count": 19
        }
      ]
    },
    {
      "cell_type": "markdown",
      "metadata": {
        "id": "Ny8IaEbyBPC6"
      },
      "source": [
        "### Question 59\n",
        "Assuming that we have some email addresses in the \"username@companyname.com\" format, please write program to print the company name of a given email address. Both user names and company names are composed of letters only.\n",
        "\n",
        "Example:\n",
        "If the following email address is given as input to the program:\n",
        "\n",
        "john@google.com\n",
        "\n",
        "Then, the output of the program should be:\n",
        "\n",
        "google\n"
      ]
    },
    {
      "cell_type": "code",
      "metadata": {
        "colab": {
          "base_uri": "https://localhost:8080/",
          "height": 52
        },
        "id": "P0FgMLckBdjJ",
        "outputId": "1b3774f9-e0a1-49cc-bcc7-9632b4d37f21"
      },
      "source": [
        "x = input()\n",
        "x.split('@')[1].split('.')[0]"
      ],
      "execution_count": null,
      "outputs": [
        {
          "output_type": "stream",
          "text": [
            "john@google.com\n"
          ],
          "name": "stdout"
        },
        {
          "output_type": "execute_result",
          "data": {
            "application/vnd.google.colaboratory.intrinsic+json": {
              "type": "string"
            },
            "text/plain": [
              "'google'"
            ]
          },
          "metadata": {
            "tags": []
          },
          "execution_count": 20
        }
      ]
    },
    {
      "cell_type": "markdown",
      "metadata": {
        "id": "hOJOf9YpCUw8"
      },
      "source": [
        "### Question 60\n",
        "Write a program which accepts a sequence of words separated by whitespace as input to print the words composed of digits only.\n",
        "\n",
        "Example:\n",
        "If the following words is given as input to the program:\n",
        "\n",
        "2 cats and 3 dogs.\n",
        "\n",
        "Then, the output of the program should be:\n",
        "\n",
        "['2', '3']\n"
      ]
    },
    {
      "cell_type": "code",
      "metadata": {
        "colab": {
          "base_uri": "https://localhost:8080/"
        },
        "id": "6v-kPXkpCjKo",
        "outputId": "2971d1c4-0a5e-45f3-ac89-ab7c79c34a6d"
      },
      "source": [
        "import re\n",
        "x = input()\n",
        "r2 = re.findall('[0-9]',x)\n",
        "r2"
      ],
      "execution_count": null,
      "outputs": [
        {
          "output_type": "stream",
          "text": [
            "2 cats and 3 dogs.\n"
          ],
          "name": "stdout"
        },
        {
          "output_type": "execute_result",
          "data": {
            "text/plain": [
              "['2', '3']"
            ]
          },
          "metadata": {
            "tags": []
          },
          "execution_count": 26
        }
      ]
    },
    {
      "cell_type": "markdown",
      "metadata": {
        "id": "6GsgDDU9Fv5L"
      },
      "source": [
        "### Question 61\n",
        "Print a unicode string \"hello world\".\n"
      ]
    },
    {
      "cell_type": "code",
      "metadata": {
        "colab": {
          "base_uri": "https://localhost:8080/"
        },
        "id": "c_OlHGlkF6Il",
        "outputId": "f11e9d71-054c-4177-9daf-92b82a8fdc4d"
      },
      "source": [
        "print(u'hello world')"
      ],
      "execution_count": null,
      "outputs": [
        {
          "output_type": "stream",
          "text": [
            "hello world\n"
          ],
          "name": "stdout"
        }
      ]
    },
    {
      "cell_type": "markdown",
      "metadata": {
        "id": "dzJRkvB3Y9U8"
      },
      "source": [
        "### Question 62\n",
        "Write a program to read an ASCII string and to convert it to a unicode string encoded by utf-8.\n"
      ]
    },
    {
      "cell_type": "code",
      "metadata": {
        "colab": {
          "base_uri": "https://localhost:8080/",
          "height": 35
        },
        "id": "GnP6Q3wpcNNF",
        "outputId": "48e2150e-e9ee-4439-9edf-4bc4e6fc3e56"
      },
      "source": [
        "b'Schutzt\\xc3\\xbcren'.decode('utf-8')"
      ],
      "execution_count": 15,
      "outputs": [
        {
          "output_type": "execute_result",
          "data": {
            "application/vnd.google.colaboratory.intrinsic+json": {
              "type": "string"
            },
            "text/plain": [
              "'Schutztüren'"
            ]
          },
          "metadata": {
            "tags": []
          },
          "execution_count": 15
        }
      ]
    },
    {
      "cell_type": "markdown",
      "metadata": {
        "id": "zHSmf3OwdvIw"
      },
      "source": [
        "### Question 63\n",
        "\n",
        "Write a special comment to indicate a Python source code file is in unicode.\n"
      ]
    },
    {
      "cell_type": "code",
      "metadata": {
        "id": "bv3YjZcGnOMd"
      },
      "source": [
        "# -*- coding: utf-8 -*-"
      ],
      "execution_count": 22,
      "outputs": []
    },
    {
      "cell_type": "markdown",
      "metadata": {
        "id": "GQS34niGnUu6"
      },
      "source": [
        "### Question 64\n",
        "\n",
        "Write a program to compute 1/2+2/3+3/4+...+n/n+1 with a given n input by console (n>0).\n",
        "\n",
        "Example:\n",
        "If the following n is given as input to the program:\n",
        "\n",
        "5\n",
        "\n",
        "Then, the output of the program should be:\n",
        "\n",
        "3.55"
      ]
    },
    {
      "cell_type": "code",
      "metadata": {
        "colab": {
          "base_uri": "https://localhost:8080/"
        },
        "id": "k8r9_kETnXdD",
        "outputId": "d23d7667-2c13-4010-a62b-bbeeb5c9775a"
      },
      "source": [
        "n = int(input())\n",
        "s=0\n",
        "for i in range(1,n+1):\n",
        "  s+=(i/(i+1))\n",
        "s"
      ],
      "execution_count": 28,
      "outputs": [
        {
          "output_type": "stream",
          "text": [
            "5\n"
          ],
          "name": "stdout"
        },
        {
          "output_type": "execute_result",
          "data": {
            "text/plain": [
              "3.5500000000000003"
            ]
          },
          "metadata": {
            "tags": []
          },
          "execution_count": 28
        }
      ]
    },
    {
      "cell_type": "markdown",
      "metadata": {
        "id": "nfl81h8uoIkF"
      },
      "source": [
        "### Question 65\n",
        "\n",
        "Write a program to compute:\n",
        "\n",
        "f(n)=f(n-1)+100 when n>0\n",
        "and f(0)=1\n",
        "\n",
        "with a given n input by console (n>0).\n",
        "\n",
        "Example:\n",
        "If the following n is given as input to the program:\n",
        "\n",
        "5\n",
        "\n",
        "Then, the output of the program should be:\n",
        "\n",
        "501"
      ]
    },
    {
      "cell_type": "code",
      "metadata": {
        "colab": {
          "base_uri": "https://localhost:8080/"
        },
        "id": "fpxLTciRoQIw",
        "outputId": "37748a6f-4767-4c1d-8594-ae903b5c8651"
      },
      "source": [
        "def func(n):\n",
        "  if n==0:\n",
        "    return 1\n",
        "  else:\n",
        "    return func(n-1) + 100\n",
        "n = int(input())\n",
        "func(n)"
      ],
      "execution_count": 32,
      "outputs": [
        {
          "output_type": "stream",
          "text": [
            "5\n"
          ],
          "name": "stdout"
        },
        {
          "output_type": "execute_result",
          "data": {
            "text/plain": [
              "501"
            ]
          },
          "metadata": {
            "tags": []
          },
          "execution_count": 32
        }
      ]
    },
    {
      "cell_type": "markdown",
      "metadata": {
        "id": "fd6CT3Dgozjn"
      },
      "source": [
        "### Question 66\n",
        "The Fibonacci Sequence is computed based on the following formula:\n",
        "\n",
        "f(n)=0 if n=0\n",
        "f(n)=1 if n=1\n",
        "f(n)=f(n-1)+f(n-2) if n>1\n",
        "\n",
        "Please write a program to compute the value of f(n) with a given n input by console.\n",
        "\n",
        "Example:\n",
        "If the following n is given as input to the program:\n",
        "\n",
        "7\n",
        "\n",
        "Then, the output of the program should be:\n",
        "\n",
        "13"
      ]
    },
    {
      "cell_type": "code",
      "metadata": {
        "colab": {
          "base_uri": "https://localhost:8080/"
        },
        "id": "ALO8b5iCo5eh",
        "outputId": "75cea75c-23f3-434a-a9c6-92b84ec4c5b5"
      },
      "source": [
        "def func(n):\n",
        "  if n==0:\n",
        "    return 0\n",
        "  elif n==1:\n",
        "    return 1\n",
        "  else:\n",
        "    return func(n-1) + func(n-2)\n",
        "x = int(input())\n",
        "func(x)"
      ],
      "execution_count": 33,
      "outputs": [
        {
          "output_type": "stream",
          "text": [
            "7\n"
          ],
          "name": "stdout"
        },
        {
          "output_type": "execute_result",
          "data": {
            "text/plain": [
              "13"
            ]
          },
          "metadata": {
            "tags": []
          },
          "execution_count": 33
        }
      ]
    },
    {
      "cell_type": "code",
      "metadata": {
        "id": "gkxGVVmSpNpf"
      },
      "source": [
        ""
      ],
      "execution_count": null,
      "outputs": []
    }
  ]
}