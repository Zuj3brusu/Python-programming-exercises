{
  "nbformat": 4,
  "nbformat_minor": 0,
  "metadata": {
    "colab": {
      "name": "python programming exercises.ipynb",
      "provenance": [],
      "collapsed_sections": [],
      "authorship_tag": "ABX9TyP6phgo2+M1GL6uVz0wyOJF",
      "include_colab_link": true
    },
    "kernelspec": {
      "name": "python3",
      "display_name": "Python 3"
    },
    "language_info": {
      "name": "python"
    }
  },
  "cells": [
    {
      "cell_type": "markdown",
      "metadata": {
        "id": "view-in-github",
        "colab_type": "text"
      },
      "source": [
        "<a href=\"https://colab.research.google.com/github/Zuj3brusu/Python-programming-exercises/blob/master/python_programming_exercises.ipynb\" target=\"_parent\"><img src=\"https://colab.research.google.com/assets/colab-badge.svg\" alt=\"Open In Colab\"/></a>"
      ]
    },
    {
      "cell_type": "markdown",
      "metadata": {
        "id": "XiuiXnSRURDI"
      },
      "source": [
        "Question 1\n",
        "Level 1\n",
        "\n",
        "Question: Write a program which will find all such numbers which are divisible by 7 but are not a multiple of 5, between 2000 and 3200 (both included). The numbers obtained should be printed in a comma-separated sequence on a single line."
      ]
    },
    {
      "cell_type": "code",
      "metadata": {
        "colab": {
          "base_uri": "https://localhost:8080/"
        },
        "id": "Rw65xVwSUVNd",
        "outputId": "7e035905-0341-40d7-d9f7-86669efbcf26"
      },
      "source": [
        "l=[]\n",
        "for i in range(2000,3201):\n",
        "  if (i%7==0) and (i%5!=0):\n",
        "    l.append(str(i))\n",
        "print(','.join(l))"
      ],
      "execution_count": 12,
      "outputs": [
        {
          "output_type": "stream",
          "text": [
            "2002,2009,2016,2023,2037,2044,2051,2058,2072,2079,2086,2093,2107,2114,2121,2128,2142,2149,2156,2163,2177,2184,2191,2198,2212,2219,2226,2233,2247,2254,2261,2268,2282,2289,2296,2303,2317,2324,2331,2338,2352,2359,2366,2373,2387,2394,2401,2408,2422,2429,2436,2443,2457,2464,2471,2478,2492,2499,2506,2513,2527,2534,2541,2548,2562,2569,2576,2583,2597,2604,2611,2618,2632,2639,2646,2653,2667,2674,2681,2688,2702,2709,2716,2723,2737,2744,2751,2758,2772,2779,2786,2793,2807,2814,2821,2828,2842,2849,2856,2863,2877,2884,2891,2898,2912,2919,2926,2933,2947,2954,2961,2968,2982,2989,2996,3003,3017,3024,3031,3038,3052,3059,3066,3073,3087,3094,3101,3108,3122,3129,3136,3143,3157,3164,3171,3178,3192,3199\n"
          ],
          "name": "stdout"
        }
      ]
    },
    {
      "cell_type": "markdown",
      "metadata": {
        "id": "tFYYpMfOVRa4"
      },
      "source": [
        "Question 2\n",
        "Level 1\n",
        "\n",
        "Question: Write a program which can compute the factorial of a given numbers. The results should be printed in a comma-separated sequence on a single line. Suppose the following input is supplied to the program: 8 Then, the output should be: 40320"
      ]
    },
    {
      "cell_type": "code",
      "metadata": {
        "colab": {
          "base_uri": "https://localhost:8080/"
        },
        "id": "UFEks4d6VUNO",
        "outputId": "6545491e-61e0-4686-8f55-eba41c477f67"
      },
      "source": [
        "x=int(input())\n",
        "m=1\n",
        "for i in range(1,x+1):\n",
        "  m*=i\n",
        "print(m)"
      ],
      "execution_count": 16,
      "outputs": [
        {
          "output_type": "stream",
          "text": [
            "8\n",
            "40320\n"
          ],
          "name": "stdout"
        }
      ]
    },
    {
      "cell_type": "markdown",
      "metadata": {
        "id": "DcXd4zDMWS6L"
      },
      "source": [
        "Question 3\n",
        "Level 1\n",
        "\n",
        "Question: With a given integral number n, write a program to generate a dictionary that contains (i, i*i) such that is an integral number between 1 and n (both included). and then the program should print the dictionary. Suppose the following input is supplied to the program: 8 Then, the output should be: {1: 1, 2: 4, 3: 9, 4: 16, 5: 25, 6: 36, 7: 49, 8: 64}"
      ]
    },
    {
      "cell_type": "code",
      "metadata": {
        "colab": {
          "base_uri": "https://localhost:8080/"
        },
        "id": "949hfznCWWYr",
        "outputId": "81733955-f13b-4270-ae6c-ad239fa8b208"
      },
      "source": [
        "x=int(input())\n",
        "d={}\n",
        "for i in range(1,x+1):\n",
        "  d[i]=i*i\n",
        "print(d)"
      ],
      "execution_count": 18,
      "outputs": [
        {
          "output_type": "stream",
          "text": [
            "8\n",
            "{1: 1, 2: 4, 3: 9, 4: 16, 5: 25, 6: 36, 7: 49, 8: 64}\n"
          ],
          "name": "stdout"
        }
      ]
    },
    {
      "cell_type": "markdown",
      "metadata": {
        "id": "QRRPUgNXWz-X"
      },
      "source": [
        "Question 4\n",
        "Level 1\n",
        "\n",
        "Question: Write a program which accepts a sequence of comma-separated numbers from console and generate a list and a tuple which contains every number. Suppose the following input is supplied to the program: 34,67,55,33,12,98 Then, the output should be: ['34', '67', '55', '33', '12', '98'] ('34', '67', '55', '33', '12', '98')"
      ]
    },
    {
      "cell_type": "code",
      "metadata": {
        "colab": {
          "base_uri": "https://localhost:8080/"
        },
        "id": "DVOcKWp8W5jq",
        "outputId": "ff68b5ef-24d1-4322-b743-77c8e87a16e4"
      },
      "source": [
        "x=input()\n",
        "l=x.split(',')\n",
        "print(l,tuple(l))"
      ],
      "execution_count": 20,
      "outputs": [
        {
          "output_type": "stream",
          "text": [
            "34,67,55,33,12,98\n",
            "['34', '67', '55', '33', '12', '98'] ('34', '67', '55', '33', '12', '98')\n"
          ],
          "name": "stdout"
        }
      ]
    },
    {
      "cell_type": "markdown",
      "metadata": {
        "id": "JF72W2XvXTgW"
      },
      "source": [
        "Question 5\n",
        "Level 1\n",
        "\n",
        "Question: Define a class which has at least two methods: getString: to get a string from console input printString: to print the string in upper case. Also please include simple test function to test the class methods."
      ]
    },
    {
      "cell_type": "code",
      "metadata": {
        "colab": {
          "base_uri": "https://localhost:8080/"
        },
        "id": "QGtCxGHGXVNR",
        "outputId": "b8ce5312-daf0-4709-a9fa-e25204262a7a"
      },
      "source": [
        "class myclass():\n",
        "  def __init__(self):\n",
        "    self.mystr = ''\n",
        "  \n",
        "  def getString(self):\n",
        "    s = input()\n",
        "    self.mystr = s\n",
        "\n",
        "  def printString(self):\n",
        "    print(self.mystr.upper())\n",
        "  \n",
        "  def test(self):\n",
        "    self.getString()\n",
        "    self.printString()\n",
        "\n",
        "x = myclass()\n",
        "x.getString()\n",
        "x.printString()\n",
        "x.test()"
      ],
      "execution_count": 26,
      "outputs": [
        {
          "output_type": "stream",
          "text": [
            "asASdD\n",
            "ASASDD\n",
            "sdgF\n",
            "SDGF\n"
          ],
          "name": "stdout"
        }
      ]
    },
    {
      "cell_type": "markdown",
      "metadata": {
        "id": "tnlsu3ugan64"
      },
      "source": [
        "Question 6\n",
        "Level 2\n",
        "\n",
        "Question: Write a program that calculates and prints the value according to the given formula: Q = Square root of [(2 * C * D)/H] Following are the fixed values of C and H: C is 50. H is 30. D is the variable whose values should be input to your program in a comma-separated sequence. Example Let us assume the following comma separated input sequence is given to the program: 100,150,180 The output of the program should be: 18,22,24"
      ]
    },
    {
      "cell_type": "code",
      "metadata": {
        "id": "CnTRlLt2biTw"
      },
      "source": [
        "import math"
      ],
      "execution_count": 27,
      "outputs": []
    },
    {
      "cell_type": "code",
      "metadata": {
        "colab": {
          "base_uri": "https://localhost:8080/"
        },
        "id": "nNsrjUuwavgu",
        "outputId": "96678425-264d-4148-f8cb-d89ad099be80"
      },
      "source": [
        "ds=input()\n",
        "l=[]\n",
        "d_s = ds.split(',')\n",
        "c=50\n",
        "h=30\n",
        "for i in d_s:\n",
        "  d=int(i)\n",
        "  x=(2*c*d)/h\n",
        "  x = math.sqrt(x)\n",
        "  l.append(str(round(x)))\n",
        "print(','.join(l))"
      ],
      "execution_count": 31,
      "outputs": [
        {
          "output_type": "stream",
          "text": [
            "100,150,180\n",
            "18,22,24\n"
          ],
          "name": "stdout"
        }
      ]
    },
    {
      "cell_type": "markdown",
      "metadata": {
        "id": "RvvzSuwScvCk"
      },
      "source": [
        "Question 7\n",
        "Level 2\n",
        "\n",
        "Question: Write a program which takes 2 digits, X,Y as input and generates a 2-dimensional array. The element value in the i-th row and j-th column of the array should be i*j. Note: i=0,1.., X-1; j=0,1,¡­Y-1. Example Suppose the following inputs are given to the program: 3,5 Then, the output of the program should be: [[0, 0, 0, 0, 0], [0, 1, 2, 3, 4], [0, 2, 4, 6, 8]]"
      ]
    },
    {
      "cell_type": "code",
      "metadata": {
        "colab": {
          "base_uri": "https://localhost:8080/"
        },
        "id": "yk8RyDVwcwC_",
        "outputId": "6971dc98-9de3-4523-9296-54d52baabe20"
      },
      "source": [
        "x=input()\n",
        "X,Y= [int(d) for d in x.split(',')]\n",
        "\n",
        "mat=[]\n",
        "for i in range(X):\n",
        "  l=[]\n",
        "  for j in range(Y):\n",
        "    l.append(i*j)\n",
        "  mat.append(l)\n",
        "print(mat)"
      ],
      "execution_count": 35,
      "outputs": [
        {
          "output_type": "stream",
          "text": [
            "3,5\n",
            "[[0, 0, 0, 0, 0], [0, 1, 2, 3, 4], [0, 2, 4, 6, 8]]\n"
          ],
          "name": "stdout"
        }
      ]
    },
    {
      "cell_type": "markdown",
      "metadata": {
        "id": "vCEs-2-hdxHj"
      },
      "source": [
        "Question 8\n",
        "Level 2\n",
        "\n",
        "Question: Write a program that accepts a comma separated sequence of words as input and prints the words in a comma-separated sequence after sorting them alphabetically. Suppose the following input is supplied to the program: without,hello,bag,world Then, the output should be: bag,hello,without,world"
      ]
    },
    {
      "cell_type": "code",
      "metadata": {
        "colab": {
          "base_uri": "https://localhost:8080/"
        },
        "id": "-ZdvhFHZd90l",
        "outputId": "6187cc2b-4819-42ac-9fb4-4cf15f22aa40"
      },
      "source": [
        "x=input()\n",
        "x=x.split(',')\n",
        "x = sorted(x)\n",
        "print(','.join(x))"
      ],
      "execution_count": 39,
      "outputs": [
        {
          "output_type": "stream",
          "text": [
            "without,hello,bag,world\n",
            "bag,hello,without,world\n"
          ],
          "name": "stdout"
        }
      ]
    },
    {
      "cell_type": "markdown",
      "metadata": {
        "id": "e_DTK3hCePUW"
      },
      "source": [
        "Question 9\n",
        "Level 2\n",
        "\n",
        "Question£º Write a program that accepts sequence of lines as input and prints the lines after making all characters in the sentence capitalized. Suppose the following input is supplied to the program: Hello world Practice makes perfect Then, the output should be: HELLO WORLD PRACTICE MAKES PERFECT"
      ]
    },
    {
      "cell_type": "code",
      "metadata": {
        "colab": {
          "base_uri": "https://localhost:8080/"
        },
        "id": "DsgsrkSnefMb",
        "outputId": "a292e2f8-45b2-474d-be48-05bec9ee38cd"
      },
      "source": [
        "x=input()\n",
        "print(x.upper())"
      ],
      "execution_count": 41,
      "outputs": [
        {
          "output_type": "stream",
          "text": [
            "Hello world Practice makes perfect\n",
            "HELLO WORLD PRACTICE MAKES PERFECT\n"
          ],
          "name": "stdout"
        }
      ]
    },
    {
      "cell_type": "markdown",
      "metadata": {
        "id": "umRqZUwue8-d"
      },
      "source": [
        "Question 10\n",
        "Level 2\n",
        "\n",
        "Question: Write a program that accepts a sequence of whitespace separated words as input and prints the words after removing all duplicate words and sorting them alphanumerically. Suppose the following input is supplied to the program: hello world and practice makes perfect and hello world again Then, the output should be: again and hello makes perfect practice world"
      ]
    },
    {
      "cell_type": "code",
      "metadata": {
        "colab": {
          "base_uri": "https://localhost:8080/"
        },
        "id": "-0QQerCVfACK",
        "outputId": "9eb39448-fe4a-448a-80de-03a12cb6dd2f"
      },
      "source": [
        "x = input()\n",
        "y = list(set(x.split(' ')))\n",
        "y.sort()\n",
        "print(' '.join(y))"
      ],
      "execution_count": 45,
      "outputs": [
        {
          "output_type": "stream",
          "text": [
            "hello world and practice makes perfect and hello world again\n",
            "again and hello makes perfect practice world\n"
          ],
          "name": "stdout"
        }
      ]
    },
    {
      "cell_type": "markdown",
      "metadata": {
        "id": "fJtI4Lrifql_"
      },
      "source": [
        "Question 11\n",
        "Level 2\n",
        "\n",
        "Question: Write a program which accepts a sequence of comma separated 4 digit binary numbers as its input and then check whether they are divisible by 5 or not. The numbers that are divisible by 5 are to be printed in a comma separated sequence. Example: 0100,0011,1010,1001 Then the output should be: 1010 Notes: Assume the data is input by console."
      ]
    },
    {
      "cell_type": "code",
      "metadata": {
        "colab": {
          "base_uri": "https://localhost:8080/"
        },
        "id": "mbpvmBwyglHG",
        "outputId": "acd97dbc-6176-4e67-db19-2384a8375390"
      },
      "source": [
        "x=input()\n",
        "x = x.split(',')\n",
        "l=[]\n",
        "def dec(s):\n",
        "  d0=int(s[0])\n",
        "  d1=int(s[1])\n",
        "  d2=int(s[2])\n",
        "  d3=int(s[3])\n",
        "  return d3*1 + d2*2 + d1*4 + d0*8\n",
        "\n",
        "for i in x:\n",
        "  z = dec(i)\n",
        "  if z%5==0:\n",
        "    l.append(i)\n",
        "print(','.join(l))"
      ],
      "execution_count": 58,
      "outputs": [
        {
          "output_type": "stream",
          "text": [
            "0100,0011,1010,1001\n",
            "1010\n"
          ],
          "name": "stdout"
        }
      ]
    },
    {
      "cell_type": "markdown",
      "metadata": {
        "id": "Q2VVvrfMiEz9"
      },
      "source": [
        "Question 12\n",
        "Level 2\n",
        "\n",
        "Question: Write a program, which will find all such numbers between 1000 and 3000 (both included) such that each digit of the number is an even number. The numbers obtained should be printed in a comma-separated sequence on a single line."
      ]
    },
    {
      "cell_type": "code",
      "metadata": {
        "colab": {
          "base_uri": "https://localhost:8080/"
        },
        "id": "rY0esgbciq5T",
        "outputId": "6d480c88-07b0-46da-d6ac-cef55302d9c7"
      },
      "source": [
        "l=[]\n",
        "for i in range(1000,3001):\n",
        "  z = i\n",
        "  if (z%10)%2==0:\n",
        "    z=z//10\n",
        "    if (z%10)%2==0:\n",
        "      z=z//10\n",
        "      if (z%10)%2==0:\n",
        "        z=z//10\n",
        "        if (z%10)%2==0:\n",
        "          l.append(str(i))\n",
        "print(','.join(l))"
      ],
      "execution_count": 75,
      "outputs": [
        {
          "output_type": "stream",
          "text": [
            "2000,2002,2004,2006,2008,2020,2022,2024,2026,2028,2040,2042,2044,2046,2048,2060,2062,2064,2066,2068,2080,2082,2084,2086,2088,2200,2202,2204,2206,2208,2220,2222,2224,2226,2228,2240,2242,2244,2246,2248,2260,2262,2264,2266,2268,2280,2282,2284,2286,2288,2400,2402,2404,2406,2408,2420,2422,2424,2426,2428,2440,2442,2444,2446,2448,2460,2462,2464,2466,2468,2480,2482,2484,2486,2488,2600,2602,2604,2606,2608,2620,2622,2624,2626,2628,2640,2642,2644,2646,2648,2660,2662,2664,2666,2668,2680,2682,2684,2686,2688,2800,2802,2804,2806,2808,2820,2822,2824,2826,2828,2840,2842,2844,2846,2848,2860,2862,2864,2866,2868,2880,2882,2884,2886,2888\n"
          ],
          "name": "stdout"
        }
      ]
    },
    {
      "cell_type": "markdown",
      "metadata": {
        "id": "aKRoj4TRkKqd"
      },
      "source": [
        "Question 13\n",
        "Level 2\n",
        "\n",
        "Question: Write a program that accepts a sentence and calculate the number of letters and digits. Suppose the following input is supplied to the program: hello world! 123 Then, the output should be: LETTERS 10 DIGITS 3"
      ]
    },
    {
      "cell_type": "code",
      "metadata": {
        "colab": {
          "base_uri": "https://localhost:8080/"
        },
        "id": "6ahxA5i3kOIG",
        "outputId": "67d9980d-d5f4-48b8-db22-a35a257ea6e1"
      },
      "source": [
        "l=0\n",
        "d=0\n",
        "x=input()\n",
        "for i in x:\n",
        "  if i == ' ':\n",
        "    continue\n",
        "  if i.isalpha():\n",
        "    l+=1\n",
        "  try:\n",
        "    int(i)\n",
        "    d+=1\n",
        "  except:\n",
        "    continue\n",
        "print(\"LETTERS\",l,'DIGITS',d)"
      ],
      "execution_count": 91,
      "outputs": [
        {
          "output_type": "stream",
          "text": [
            "hello world! 123\n",
            "LETTERS 10 DIGITS 3\n"
          ],
          "name": "stdout"
        }
      ]
    },
    {
      "cell_type": "markdown",
      "metadata": {
        "id": "wRFcWyE_l_-e"
      },
      "source": [
        "Question 14\n",
        "Level 2\n",
        "\n",
        "Question: Write a program that accepts a sentence and calculate the number of upper case letters and lower case letters. Suppose the following input is supplied to the program: Hello world! Then, the output should be: UPPER CASE 1 LOWER CASE 9"
      ]
    },
    {
      "cell_type": "code",
      "metadata": {
        "colab": {
          "base_uri": "https://localhost:8080/"
        },
        "id": "pYzcwWO5mLnW",
        "outputId": "c852334c-41a2-493d-dfa5-49ac03ccbfdd"
      },
      "source": [
        "x=input()\n",
        "u=0\n",
        "l=0\n",
        "for i in x:\n",
        "  if not i.isalpha():\n",
        "    continue\n",
        "  if i.upper()==i:\n",
        "    u+=1\n",
        "  else:\n",
        "    l+=1\n",
        "print('UPPER CASE',u,'LOWER CASE',l)"
      ],
      "execution_count": 96,
      "outputs": [
        {
          "output_type": "stream",
          "text": [
            "Hello world!\n",
            "UPPER CASE 1 LOWER CASE 9\n"
          ],
          "name": "stdout"
        }
      ]
    },
    {
      "cell_type": "markdown",
      "metadata": {
        "id": "0fGiiQDwm-HE"
      },
      "source": [
        "Question 15\n",
        "Level 2\n",
        "\n",
        "Question: Write a program that computes the value of a+aa+aaa+aaaa with a given digit as the value of a. Suppose the following input is supplied to the program: 9 Then, the output should be: 11106"
      ]
    },
    {
      "cell_type": "code",
      "metadata": {
        "colab": {
          "base_uri": "https://localhost:8080/"
        },
        "id": "hfpVa9JUnOXD",
        "outputId": "ef840e81-f691-4992-8284-6ea059b56fc0"
      },
      "source": [
        "x=input()\n",
        "print(int(x)+int(x+x)+int(x+x+x)+int(x+x+x+x))"
      ],
      "execution_count": 99,
      "outputs": [
        {
          "output_type": "stream",
          "text": [
            "9\n",
            "11106\n"
          ],
          "name": "stdout"
        }
      ]
    },
    {
      "cell_type": "markdown",
      "metadata": {
        "id": "Ai1fqr-ynqbv"
      },
      "source": [
        "Question 16\n",
        "Level 2\n",
        "\n",
        "Question: Use a list comprehension to square each odd number in a list. The list is input by a sequence of comma-separated numbers. Suppose the following input is supplied to the program: 1,2,3,4,5,6,7,8,9 Then, the output should be: 1,9,25,49,81"
      ]
    },
    {
      "cell_type": "code",
      "metadata": {
        "colab": {
          "base_uri": "https://localhost:8080/"
        },
        "id": "oadjmRwznras",
        "outputId": "4181fecf-08e6-410c-951a-6db8bf9e922d"
      },
      "source": [
        "x=input()\n",
        "x = x.split(',')\n",
        "[int(d)*int(d) for d in x if int(d)%2==1]"
      ],
      "execution_count": 101,
      "outputs": [
        {
          "output_type": "stream",
          "text": [
            "1,2,3,4,5,6,7,8,9\n"
          ],
          "name": "stdout"
        },
        {
          "output_type": "execute_result",
          "data": {
            "text/plain": [
              "[1, 9, 25, 49, 81]"
            ]
          },
          "metadata": {
            "tags": []
          },
          "execution_count": 101
        }
      ]
    },
    {
      "cell_type": "markdown",
      "metadata": {
        "id": "k0O79Rnpo6bA"
      },
      "source": [
        "Question 17\n",
        "Level 2\n",
        "\n",
        "Question: Write a program that computes the net amount of a bank account based a transaction log from console input. The transaction log format is shown as following: D 100 W 200\n",
        "\n",
        "D means deposit while W means withdrawal. Suppose the following input is supplied to the program: D 300 D 300 W 200 D 100 Then, the output should be: 500"
      ]
    },
    {
      "cell_type": "code",
      "metadata": {
        "colab": {
          "base_uri": "https://localhost:8080/"
        },
        "id": "eW61ZB14pAce",
        "outputId": "67ff0d83-8503-4fd7-a45c-0af43ec841aa"
      },
      "source": [
        "x=input()\n",
        "x = x.split(' ')\n",
        "net=0\n",
        "for i in x:\n",
        "  if i=='D':\n",
        "    mult=1\n",
        "  elif i=='W':\n",
        "    mult=-1\n",
        "  else:\n",
        "    net+=mult*int(i)\n",
        "print(net)"
      ],
      "execution_count": 102,
      "outputs": [
        {
          "output_type": "stream",
          "text": [
            "D 300 D 300 W 200 D 100\n",
            "500\n"
          ],
          "name": "stdout"
        }
      ]
    },
    {
      "cell_type": "markdown",
      "metadata": {
        "id": "u6A-gz0SqG6f"
      },
      "source": [
        "Question 18\n",
        "Level 3\n",
        "\n",
        "Question: A website requires the users to input username and password to register. Write a program to check the validity of password input by users. Following are the criteria for checking the password:\n",
        "\n",
        "At least 1 letter between [a-z]\n",
        "At least 1 number between [0-9]\n",
        "At least 1 letter between [A-Z]\n",
        "At least 1 character from [$#@]\n",
        "Minimum length of transaction password: 6\n",
        "Maximum length of transaction password: 12 Your program should accept a sequence of comma separated passwords and will check them according to the above criteria. Passwords that match the criteria are to be printed, each separated by a comma. Example If the following passwords are given as input to the program: ABd1234@1,a F1#,2w3E*,2We3345 Then, the output of the program should be: ABd1234@1"
      ]
    },
    {
      "cell_type": "code",
      "metadata": {
        "colab": {
          "base_uri": "https://localhost:8080/"
        },
        "id": "5XolKNi6qKdM",
        "outputId": "246cb298-140c-4a81-e889-aaee470626fb"
      },
      "source": [
        "x=input()\n",
        "x=x.split(',')\n",
        "l=[]\n",
        "def check(x):\n",
        "  if len(x)<6 or len(x)>12:\n",
        "    return False\n",
        "  d=0\n",
        "  u=0\n",
        "  l=0\n",
        "  a=0\n",
        "  for i in x:\n",
        "    if i.isdigit():\n",
        "      d+=1\n",
        "    elif i.isupper():\n",
        "      u+=1\n",
        "    elif i.islower():\n",
        "      l+=1\n",
        "    elif i in ['$','#','@']:\n",
        "      a+=1\n",
        "  \n",
        "  if d>0 and u>0 and l>0 and a>0:\n",
        "    return True\n",
        "  else:\n",
        "    return False\n",
        "    \n",
        "for i in x:\n",
        "  if check(i):\n",
        "    l.append(i)\n",
        "print(','.join(l))"
      ],
      "execution_count": 111,
      "outputs": [
        {
          "output_type": "stream",
          "text": [
            "ABd1234@1,a F1#,2w3E*,2We3345\n",
            "ABd1234@1\n"
          ],
          "name": "stdout"
        }
      ]
    },
    {
      "cell_type": "markdown",
      "metadata": {
        "id": "eXtlQ_q8r0-l"
      },
      "source": [
        "Question 19\n",
        "Level 3\n",
        "\n",
        "Question: You are required to write a program to sort the (name, age, height) tuples by ascending order where name is string, age and height are numbers. The tuples are input by console. The sort criteria is: 1: Sort based on name; 2: Then sort based on age; 3: Then sort by score. The priority is that name > age > score. If the following tuples are given as input to the program: Tom,19,80 John,20,90 Jony,17,91 Jony,17,93 Json,21,85 Then, the output of the program should be: [('John', '20', '90'), ('Jony', '17', '91'), ('Jony', '17', '93'), ('Json', '21', '85'), ('Tom', '19', '80')]"
      ]
    },
    {
      "cell_type": "code",
      "metadata": {
        "colab": {
          "base_uri": "https://localhost:8080/"
        },
        "id": "jbZU1iRjsZmA",
        "outputId": "1f798270-7f85-4918-aa96-fab834de7001"
      },
      "source": [
        "x=input()\n",
        "x=x.split(' ')\n",
        "x = [a.split(',') for a in x]\n",
        "x.sort(key=lambda x:x[2])\n",
        "x.sort(key=lambda x:x[1])\n",
        "x.sort(key=lambda x:x[0])\n",
        "print(x)"
      ],
      "execution_count": 119,
      "outputs": [
        {
          "output_type": "stream",
          "text": [
            "Tom,19,80 John,20,90 Jony,17,91 Jony,17,93 Json,21,85\n",
            "[['John', '20', '90'], ['Jony', '17', '91'], ['Jony', '17', '93'], ['Json', '21', '85'], ['Tom', '19', '80']]\n"
          ],
          "name": "stdout"
        }
      ]
    },
    {
      "cell_type": "markdown",
      "metadata": {
        "id": "y1QEXg31uS-r"
      },
      "source": [
        "Question 20\n",
        "Level 3\n",
        "\n",
        "Question: Define a class with a generator which can iterate the numbers, which are divisible by 7, between a given range 0 and n."
      ]
    },
    {
      "cell_type": "code",
      "metadata": {
        "colab": {
          "base_uri": "https://localhost:8080/"
        },
        "id": "5zSyi6rVvWmD",
        "outputId": "f9f1f7c9-ed12-4fc8-ab6f-f4705f7a1c10"
      },
      "source": [
        "def niter(n):\n",
        "  for i in range(n+1):\n",
        "    if i%7==0:\n",
        "      yield i\n",
        "a=niter(100)\n",
        "print(next(a))\n",
        "print(next(a))\n",
        "print(next(a))\n",
        "l=[]\n",
        "for i in a:\n",
        "  l.append(str(i))\n",
        "print(','.join(l))"
      ],
      "execution_count": 135,
      "outputs": [
        {
          "output_type": "stream",
          "text": [
            "0\n",
            "7\n",
            "14\n",
            "21,28,35,42,49,56,63,70,77,84,91,98\n"
          ],
          "name": "stdout"
        }
      ]
    }
  ]
}