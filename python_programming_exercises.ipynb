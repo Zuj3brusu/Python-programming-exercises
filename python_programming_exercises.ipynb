{
  "nbformat": 4,
  "nbformat_minor": 0,
  "metadata": {
    "colab": {
      "name": "python programming exercises.ipynb",
      "provenance": [],
      "collapsed_sections": [],
      "authorship_tag": "ABX9TyPlwXnm7E/qHkiEgFg8kr3/",
      "include_colab_link": true
    },
    "kernelspec": {
      "name": "python3",
      "display_name": "Python 3"
    },
    "language_info": {
      "name": "python"
    }
  },
  "cells": [
    {
      "cell_type": "markdown",
      "metadata": {
        "id": "view-in-github",
        "colab_type": "text"
      },
      "source": [
        "<a href=\"https://colab.research.google.com/github/Zuj3brusu/Python-programming-exercises/blob/master/python_programming_exercises.ipynb\" target=\"_parent\"><img src=\"https://colab.research.google.com/assets/colab-badge.svg\" alt=\"Open In Colab\"/></a>"
      ]
    },
    {
      "cell_type": "markdown",
      "metadata": {
        "id": "XiuiXnSRURDI"
      },
      "source": [
        "Question 1\n",
        "Level 1\n",
        "\n",
        "Question: Write a program which will find all such numbers which are divisible by 7 but are not a multiple of 5, between 2000 and 3200 (both included). The numbers obtained should be printed in a comma-separated sequence on a single line."
      ]
    },
    {
      "cell_type": "code",
      "metadata": {
        "colab": {
          "base_uri": "https://localhost:8080/"
        },
        "id": "Rw65xVwSUVNd",
        "outputId": "7e035905-0341-40d7-d9f7-86669efbcf26"
      },
      "source": [
        "l=[]\n",
        "for i in range(2000,3201):\n",
        "  if (i%7==0) and (i%5!=0):\n",
        "    l.append(str(i))\n",
        "print(','.join(l))"
      ],
      "execution_count": 12,
      "outputs": [
        {
          "output_type": "stream",
          "text": [
            "2002,2009,2016,2023,2037,2044,2051,2058,2072,2079,2086,2093,2107,2114,2121,2128,2142,2149,2156,2163,2177,2184,2191,2198,2212,2219,2226,2233,2247,2254,2261,2268,2282,2289,2296,2303,2317,2324,2331,2338,2352,2359,2366,2373,2387,2394,2401,2408,2422,2429,2436,2443,2457,2464,2471,2478,2492,2499,2506,2513,2527,2534,2541,2548,2562,2569,2576,2583,2597,2604,2611,2618,2632,2639,2646,2653,2667,2674,2681,2688,2702,2709,2716,2723,2737,2744,2751,2758,2772,2779,2786,2793,2807,2814,2821,2828,2842,2849,2856,2863,2877,2884,2891,2898,2912,2919,2926,2933,2947,2954,2961,2968,2982,2989,2996,3003,3017,3024,3031,3038,3052,3059,3066,3073,3087,3094,3101,3108,3122,3129,3136,3143,3157,3164,3171,3178,3192,3199\n"
          ],
          "name": "stdout"
        }
      ]
    },
    {
      "cell_type": "markdown",
      "metadata": {
        "id": "tFYYpMfOVRa4"
      },
      "source": [
        "Question 2\n",
        "Level 1\n",
        "\n",
        "Question: Write a program which can compute the factorial of a given numbers. The results should be printed in a comma-separated sequence on a single line. Suppose the following input is supplied to the program: 8 Then, the output should be: 40320"
      ]
    },
    {
      "cell_type": "code",
      "metadata": {
        "colab": {
          "base_uri": "https://localhost:8080/"
        },
        "id": "UFEks4d6VUNO",
        "outputId": "6545491e-61e0-4686-8f55-eba41c477f67"
      },
      "source": [
        "x=int(input())\n",
        "m=1\n",
        "for i in range(1,x+1):\n",
        "  m*=i\n",
        "print(m)"
      ],
      "execution_count": 16,
      "outputs": [
        {
          "output_type": "stream",
          "text": [
            "8\n",
            "40320\n"
          ],
          "name": "stdout"
        }
      ]
    },
    {
      "cell_type": "markdown",
      "metadata": {
        "id": "DcXd4zDMWS6L"
      },
      "source": [
        "Question 3\n",
        "Level 1\n",
        "\n",
        "Question: With a given integral number n, write a program to generate a dictionary that contains (i, i*i) such that is an integral number between 1 and n (both included). and then the program should print the dictionary. Suppose the following input is supplied to the program: 8 Then, the output should be: {1: 1, 2: 4, 3: 9, 4: 16, 5: 25, 6: 36, 7: 49, 8: 64}"
      ]
    },
    {
      "cell_type": "code",
      "metadata": {
        "colab": {
          "base_uri": "https://localhost:8080/"
        },
        "id": "949hfznCWWYr",
        "outputId": "81733955-f13b-4270-ae6c-ad239fa8b208"
      },
      "source": [
        "x=int(input())\n",
        "d={}\n",
        "for i in range(1,x+1):\n",
        "  d[i]=i*i\n",
        "print(d)"
      ],
      "execution_count": 18,
      "outputs": [
        {
          "output_type": "stream",
          "text": [
            "8\n",
            "{1: 1, 2: 4, 3: 9, 4: 16, 5: 25, 6: 36, 7: 49, 8: 64}\n"
          ],
          "name": "stdout"
        }
      ]
    },
    {
      "cell_type": "markdown",
      "metadata": {
        "id": "QRRPUgNXWz-X"
      },
      "source": [
        "Question 4\n",
        "Level 1\n",
        "\n",
        "Question: Write a program which accepts a sequence of comma-separated numbers from console and generate a list and a tuple which contains every number. Suppose the following input is supplied to the program: 34,67,55,33,12,98 Then, the output should be: ['34', '67', '55', '33', '12', '98'] ('34', '67', '55', '33', '12', '98')"
      ]
    },
    {
      "cell_type": "code",
      "metadata": {
        "colab": {
          "base_uri": "https://localhost:8080/"
        },
        "id": "DVOcKWp8W5jq",
        "outputId": "ff68b5ef-24d1-4322-b743-77c8e87a16e4"
      },
      "source": [
        "x=input()\n",
        "l=x.split(',')\n",
        "print(l,tuple(l))"
      ],
      "execution_count": 20,
      "outputs": [
        {
          "output_type": "stream",
          "text": [
            "34,67,55,33,12,98\n",
            "['34', '67', '55', '33', '12', '98'] ('34', '67', '55', '33', '12', '98')\n"
          ],
          "name": "stdout"
        }
      ]
    },
    {
      "cell_type": "markdown",
      "metadata": {
        "id": "JF72W2XvXTgW"
      },
      "source": [
        "Question 5\n",
        "Level 1\n",
        "\n",
        "Question: Define a class which has at least two methods: getString: to get a string from console input printString: to print the string in upper case. Also please include simple test function to test the class methods."
      ]
    },
    {
      "cell_type": "code",
      "metadata": {
        "colab": {
          "base_uri": "https://localhost:8080/"
        },
        "id": "QGtCxGHGXVNR",
        "outputId": "b8ce5312-daf0-4709-a9fa-e25204262a7a"
      },
      "source": [
        "class myclass():\n",
        "  def __init__(self):\n",
        "    self.mystr = ''\n",
        "  \n",
        "  def getString(self):\n",
        "    s = input()\n",
        "    self.mystr = s\n",
        "\n",
        "  def printString(self):\n",
        "    print(self.mystr.upper())\n",
        "  \n",
        "  def test(self):\n",
        "    self.getString()\n",
        "    self.printString()\n",
        "\n",
        "x = myclass()\n",
        "x.getString()\n",
        "x.printString()\n",
        "x.test()"
      ],
      "execution_count": 26,
      "outputs": [
        {
          "output_type": "stream",
          "text": [
            "asASdD\n",
            "ASASDD\n",
            "sdgF\n",
            "SDGF\n"
          ],
          "name": "stdout"
        }
      ]
    },
    {
      "cell_type": "markdown",
      "metadata": {
        "id": "tnlsu3ugan64"
      },
      "source": [
        "Question 6\n",
        "Level 2\n",
        "\n",
        "Question: Write a program that calculates and prints the value according to the given formula: Q = Square root of [(2 * C * D)/H] Following are the fixed values of C and H: C is 50. H is 30. D is the variable whose values should be input to your program in a comma-separated sequence. Example Let us assume the following comma separated input sequence is given to the program: 100,150,180 The output of the program should be: 18,22,24"
      ]
    },
    {
      "cell_type": "code",
      "metadata": {
        "id": "CnTRlLt2biTw"
      },
      "source": [
        "import math"
      ],
      "execution_count": 27,
      "outputs": []
    },
    {
      "cell_type": "code",
      "metadata": {
        "colab": {
          "base_uri": "https://localhost:8080/"
        },
        "id": "nNsrjUuwavgu",
        "outputId": "96678425-264d-4148-f8cb-d89ad099be80"
      },
      "source": [
        "ds=input()\n",
        "l=[]\n",
        "d_s = ds.split(',')\n",
        "c=50\n",
        "h=30\n",
        "for i in d_s:\n",
        "  d=int(i)\n",
        "  x=(2*c*d)/h\n",
        "  x = math.sqrt(x)\n",
        "  l.append(str(round(x)))\n",
        "print(','.join(l))"
      ],
      "execution_count": 31,
      "outputs": [
        {
          "output_type": "stream",
          "text": [
            "100,150,180\n",
            "18,22,24\n"
          ],
          "name": "stdout"
        }
      ]
    },
    {
      "cell_type": "markdown",
      "metadata": {
        "id": "RvvzSuwScvCk"
      },
      "source": [
        "Question 7\n",
        "Level 2\n",
        "\n",
        "Question: Write a program which takes 2 digits, X,Y as input and generates a 2-dimensional array. The element value in the i-th row and j-th column of the array should be i*j. Note: i=0,1.., X-1; j=0,1,¡­Y-1. Example Suppose the following inputs are given to the program: 3,5 Then, the output of the program should be: [[0, 0, 0, 0, 0], [0, 1, 2, 3, 4], [0, 2, 4, 6, 8]]"
      ]
    },
    {
      "cell_type": "code",
      "metadata": {
        "colab": {
          "base_uri": "https://localhost:8080/"
        },
        "id": "yk8RyDVwcwC_",
        "outputId": "6971dc98-9de3-4523-9296-54d52baabe20"
      },
      "source": [
        "x=input()\n",
        "X,Y= [int(d) for d in x.split(',')]\n",
        "\n",
        "mat=[]\n",
        "for i in range(X):\n",
        "  l=[]\n",
        "  for j in range(Y):\n",
        "    l.append(i*j)\n",
        "  mat.append(l)\n",
        "print(mat)"
      ],
      "execution_count": 35,
      "outputs": [
        {
          "output_type": "stream",
          "text": [
            "3,5\n",
            "[[0, 0, 0, 0, 0], [0, 1, 2, 3, 4], [0, 2, 4, 6, 8]]\n"
          ],
          "name": "stdout"
        }
      ]
    },
    {
      "cell_type": "markdown",
      "metadata": {
        "id": "vCEs-2-hdxHj"
      },
      "source": [
        "Question 8\n",
        "Level 2\n",
        "\n",
        "Question: Write a program that accepts a comma separated sequence of words as input and prints the words in a comma-separated sequence after sorting them alphabetically. Suppose the following input is supplied to the program: without,hello,bag,world Then, the output should be: bag,hello,without,world"
      ]
    },
    {
      "cell_type": "code",
      "metadata": {
        "colab": {
          "base_uri": "https://localhost:8080/"
        },
        "id": "-ZdvhFHZd90l",
        "outputId": "6187cc2b-4819-42ac-9fb4-4cf15f22aa40"
      },
      "source": [
        "x=input()\n",
        "x=x.split(',')\n",
        "x = sorted(x)\n",
        "print(','.join(x))"
      ],
      "execution_count": 39,
      "outputs": [
        {
          "output_type": "stream",
          "text": [
            "without,hello,bag,world\n",
            "bag,hello,without,world\n"
          ],
          "name": "stdout"
        }
      ]
    },
    {
      "cell_type": "markdown",
      "metadata": {
        "id": "e_DTK3hCePUW"
      },
      "source": [
        "Question 9\n",
        "Level 2\n",
        "\n",
        "Question£º Write a program that accepts sequence of lines as input and prints the lines after making all characters in the sentence capitalized. Suppose the following input is supplied to the program: Hello world Practice makes perfect Then, the output should be: HELLO WORLD PRACTICE MAKES PERFECT"
      ]
    },
    {
      "cell_type": "code",
      "metadata": {
        "colab": {
          "base_uri": "https://localhost:8080/"
        },
        "id": "DsgsrkSnefMb",
        "outputId": "a292e2f8-45b2-474d-be48-05bec9ee38cd"
      },
      "source": [
        "x=input()\n",
        "print(x.upper())"
      ],
      "execution_count": 41,
      "outputs": [
        {
          "output_type": "stream",
          "text": [
            "Hello world Practice makes perfect\n",
            "HELLO WORLD PRACTICE MAKES PERFECT\n"
          ],
          "name": "stdout"
        }
      ]
    },
    {
      "cell_type": "markdown",
      "metadata": {
        "id": "umRqZUwue8-d"
      },
      "source": [
        "Question 10\n",
        "Level 2\n",
        "\n",
        "Question: Write a program that accepts a sequence of whitespace separated words as input and prints the words after removing all duplicate words and sorting them alphanumerically. Suppose the following input is supplied to the program: hello world and practice makes perfect and hello world again Then, the output should be: again and hello makes perfect practice world"
      ]
    },
    {
      "cell_type": "code",
      "metadata": {
        "colab": {
          "base_uri": "https://localhost:8080/"
        },
        "id": "-0QQerCVfACK",
        "outputId": "9eb39448-fe4a-448a-80de-03a12cb6dd2f"
      },
      "source": [
        "x = input()\n",
        "y = list(set(x.split(' ')))\n",
        "y.sort()\n",
        "print(' '.join(y))"
      ],
      "execution_count": 45,
      "outputs": [
        {
          "output_type": "stream",
          "text": [
            "hello world and practice makes perfect and hello world again\n",
            "again and hello makes perfect practice world\n"
          ],
          "name": "stdout"
        }
      ]
    },
    {
      "cell_type": "code",
      "metadata": {
        "id": "fJtI4Lrifql_"
      },
      "source": [
        ""
      ],
      "execution_count": null,
      "outputs": []
    }
  ]
}